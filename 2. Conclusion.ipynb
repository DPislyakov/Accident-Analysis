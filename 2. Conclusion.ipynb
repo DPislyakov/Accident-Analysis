{
 "cells": [
  {
   "cell_type": "markdown",
   "metadata": {},
   "source": [
    "# Были рассмотрены основные модели классификации, а затем он были применены на нашем наборе данных с объяснением полученных результатов в разрезе каждой модели."
   ]
  },
  {
   "cell_type": "markdown",
   "metadata": {},
   "source": [
    "# Исходные данные оказались не сбалансированы, именно поэтому текстовые атрибуты перекодировались с объединением, чтобы хоть как-то сбалансировать полноту данных. По этой причине построенные confusion_matrix с цветами по диагоналям оказались разноконтрастные."
   ]
  },
  {
   "cell_type": "markdown",
   "metadata": {},
   "source": [
    "# Также была проведена дополнительная обработка данных и классификация отдельных атрибутов, что позволило бы использовать это в алгоритме машинного обучения. \n",
    "# Рассмотрены действия таких алгоритмов для определения типа аварии, как RandomForestClassifier, KNeighborsClassifier, SupportVectorClassifier(kernel = linear), SupportVectorClassifier(kernel = RBF)."
   ]
  },
  {
   "cell_type": "markdown",
   "metadata": {},
   "source": [
    "# Рассмотрели каждую модель в разрезе отдельно на каждый год, зафиксировали лучший показатель точности. \n",
    "# Рассмотрели матрицы ошибок, как модель распределяет данные по классам. \n",
    "# Выявили, какие из атрибутов наиболее сильно влияют на точность в разрезе каждого года."
   ]
  },
  {
   "cell_type": "markdown",
   "metadata": {},
   "source": [
    "# Проверка выбора модели показала, что наиболее точной является модель Random_Forest."
   ]
  },
  {
   "cell_type": "markdown",
   "metadata": {},
   "source": [
    "# Самое важное влияние на точность модели оказывают атрибуты - объект дорожной сети, фактор нарушения ПДД со стороны водителя."
   ]
  },
  {
   "cell_type": "code",
   "execution_count": null,
   "metadata": {},
   "outputs": [],
   "source": []
  }
 ],
 "metadata": {
  "kernelspec": {
   "display_name": "Python 3",
   "language": "python",
   "name": "python3"
  },
  "language_info": {
   "codemirror_mode": {
    "name": "ipython",
    "version": 3
   },
   "file_extension": ".py",
   "mimetype": "text/x-python",
   "name": "python",
   "nbconvert_exporter": "python",
   "pygments_lexer": "ipython3",
   "version": "3.7.0"
  }
 },
 "nbformat": 4,
 "nbformat_minor": 2
}
