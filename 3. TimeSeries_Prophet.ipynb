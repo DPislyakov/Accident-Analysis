{
 "cells": [
  {
   "cell_type": "code",
   "execution_count": 74,
   "metadata": {
    "colab": {
     "base_uri": "https://localhost:8080/",
     "height": 202
    },
    "executionInfo": {
     "elapsed": 1566,
     "status": "ok",
     "timestamp": 1620328911776,
     "user": {
      "displayName": "Дмитрий Писляков",
      "photoUrl": "",
      "userId": "06731345324867096106"
     },
     "user_tz": -120
    },
    "id": "ntL_EamOaa7i",
    "outputId": "6be7d83c-ca0f-47e0-fbec-463759b06bee"
   },
   "outputs": [
    {
     "data": {
      "text/html": [
       "<div>\n",
       "<style scoped>\n",
       "    .dataframe tbody tr th:only-of-type {\n",
       "        vertical-align: middle;\n",
       "    }\n",
       "\n",
       "    .dataframe tbody tr th {\n",
       "        vertical-align: top;\n",
       "    }\n",
       "\n",
       "    .dataframe thead th {\n",
       "        text-align: right;\n",
       "    }\n",
       "</style>\n",
       "<table border=\"1\" class=\"dataframe\">\n",
       "  <thead>\n",
       "    <tr style=\"text-align: right;\">\n",
       "      <th></th>\n",
       "      <th>date</th>\n",
       "      <th>time</th>\n",
       "      <th>district</th>\n",
       "      <th>n_p</th>\n",
       "      <th>dtp_v</th>\n",
       "      <th>s_pch</th>\n",
       "      <th>osv</th>\n",
       "      <th>change_org_motion</th>\n",
       "      <th>woman_drv</th>\n",
       "      <th>pogoda</th>\n",
       "      <th>driver_narush</th>\n",
       "      <th>alco</th>\n",
       "      <th>posled</th>\n",
       "      <th>sdor</th>\n",
       "    </tr>\n",
       "  </thead>\n",
       "  <tbody>\n",
       "    <tr>\n",
       "      <th>0</th>\n",
       "      <td>2015-05-12</td>\n",
       "      <td>09:20:00</td>\n",
       "      <td>КАШАРСКИЙ</td>\n",
       "      <td>сл Кашары</td>\n",
       "      <td>1</td>\n",
       "      <td>1</td>\n",
       "      <td>2</td>\n",
       "      <td>2</td>\n",
       "      <td>1</td>\n",
       "      <td>1</td>\n",
       "      <td>1</td>\n",
       "      <td>0</td>\n",
       "      <td>1</td>\n",
       "      <td>5</td>\n",
       "    </tr>\n",
       "    <tr>\n",
       "      <th>1</th>\n",
       "      <td>2016-03-09</td>\n",
       "      <td>17:20:00</td>\n",
       "      <td>КАШАРСКИЙ</td>\n",
       "      <td>NaN</td>\n",
       "      <td>0</td>\n",
       "      <td>1</td>\n",
       "      <td>2</td>\n",
       "      <td>2</td>\n",
       "      <td>0</td>\n",
       "      <td>1</td>\n",
       "      <td>1</td>\n",
       "      <td>0</td>\n",
       "      <td>1</td>\n",
       "      <td>5</td>\n",
       "    </tr>\n",
       "    <tr>\n",
       "      <th>2</th>\n",
       "      <td>2018-08-19</td>\n",
       "      <td>17:40:00</td>\n",
       "      <td>КАШАРСКИЙ</td>\n",
       "      <td>NaN</td>\n",
       "      <td>0</td>\n",
       "      <td>1</td>\n",
       "      <td>2</td>\n",
       "      <td>2</td>\n",
       "      <td>0</td>\n",
       "      <td>1</td>\n",
       "      <td>1</td>\n",
       "      <td>0</td>\n",
       "      <td>0</td>\n",
       "      <td>5</td>\n",
       "    </tr>\n",
       "    <tr>\n",
       "      <th>3</th>\n",
       "      <td>2018-08-08</td>\n",
       "      <td>14:15:00</td>\n",
       "      <td>КАШАРСКИЙ</td>\n",
       "      <td>NaN</td>\n",
       "      <td>0</td>\n",
       "      <td>1</td>\n",
       "      <td>2</td>\n",
       "      <td>2</td>\n",
       "      <td>1</td>\n",
       "      <td>1</td>\n",
       "      <td>1</td>\n",
       "      <td>0</td>\n",
       "      <td>1</td>\n",
       "      <td>5</td>\n",
       "    </tr>\n",
       "    <tr>\n",
       "      <th>4</th>\n",
       "      <td>2015-03-07</td>\n",
       "      <td>21:15:00</td>\n",
       "      <td>КАШАРСКИЙ</td>\n",
       "      <td>NaN</td>\n",
       "      <td>1</td>\n",
       "      <td>1</td>\n",
       "      <td>0</td>\n",
       "      <td>1</td>\n",
       "      <td>0</td>\n",
       "      <td>1</td>\n",
       "      <td>1</td>\n",
       "      <td>1</td>\n",
       "      <td>2</td>\n",
       "      <td>5</td>\n",
       "    </tr>\n",
       "  </tbody>\n",
       "</table>\n",
       "</div>"
      ],
      "text/plain": [
       "         date      time   district  ... alco  posled  sdor\n",
       "0  2015-05-12  09:20:00  КАШАРСКИЙ  ...    0       1     5\n",
       "1  2016-03-09  17:20:00  КАШАРСКИЙ  ...    0       1     5\n",
       "2  2018-08-19  17:40:00  КАШАРСКИЙ  ...    0       0     5\n",
       "3  2018-08-08  14:15:00  КАШАРСКИЙ  ...    0       1     5\n",
       "4  2015-03-07  21:15:00  КАШАРСКИЙ  ...    1       2     5\n",
       "\n",
       "[5 rows x 14 columns]"
      ]
     },
     "execution_count": 74,
     "metadata": {
      "tags": []
     },
     "output_type": "execute_result"
    }
   ],
   "source": [
    "import pandas as pd\n",
    "df = pd.read_csv('/content/drive/MyDrive/Colab Notebooks/encoded.csv', index_col=0)\n",
    "df.head()"
   ]
  },
  {
   "cell_type": "code",
   "execution_count": 2,
   "metadata": {
    "executionInfo": {
     "elapsed": 898,
     "status": "ok",
     "timestamp": 1620323670743,
     "user": {
      "displayName": "Дмитрий Писляков",
      "photoUrl": "",
      "userId": "06731345324867096106"
     },
     "user_tz": -120
    },
    "id": "spLEAScAawgC"
   },
   "outputs": [],
   "source": [
    "from fbprophet import Prophet\n",
    "from fbprophet.diagnostics import cross_validation\n",
    "from fbprophet.diagnostics import performance_metrics\n",
    "from fbprophet.plot import plot_cross_validation_metric"
   ]
  },
  {
   "cell_type": "code",
   "execution_count": 23,
   "metadata": {
    "executionInfo": {
     "elapsed": 1198,
     "status": "ok",
     "timestamp": 1620324072311,
     "user": {
      "displayName": "Дмитрий Писляков",
      "photoUrl": "",
      "userId": "06731345324867096106"
     },
     "user_tz": -120
    },
    "id": "GTmomObu1wjz"
   },
   "outputs": [],
   "source": [
    "from sklearn import metrics\n",
    "import numpy as np\n",
    "import matplotlib.pyplot as plt\n",
    "import seaborn as sns\n",
    "%matplotlib inline\n",
    "import matplotlib\n",
    "plt.style.use('ggplot')\n",
    "import warnings\n",
    "import itertools\n",
    "matplotlib.rcParams['axes.labelsize'] = 14\n",
    "matplotlib.rcParams['xtick.labelsize'] = 12\n",
    "matplotlib.rcParams['ytick.labelsize'] = 12\n",
    "matplotlib.rcParams['text.color'] = 'k'"
   ]
  },
  {
   "cell_type": "markdown",
   "metadata": {
    "id": "KE0Go1wIISre"
   },
   "source": [
    "## Москва"
   ]
  },
  {
   "cell_type": "code",
   "execution_count": 75,
   "metadata": {
    "executionInfo": {
     "elapsed": 890,
     "status": "ok",
     "timestamp": 1620329113606,
     "user": {
      "displayName": "Дмитрий Писляков",
      "photoUrl": "",
      "userId": "06731345324867096106"
     },
     "user_tz": -120
    },
    "id": "47zIE4VSIYfT"
   },
   "outputs": [],
   "source": [
    "dfl = df[df['n_p']=='г Москва']"
   ]
  },
  {
   "cell_type": "code",
   "execution_count": 76,
   "metadata": {
    "colab": {
     "base_uri": "https://localhost:8080/",
     "height": 202
    },
    "executionInfo": {
     "elapsed": 976,
     "status": "ok",
     "timestamp": 1620329135519,
     "user": {
      "displayName": "Дмитрий Писляков",
      "photoUrl": "",
      "userId": "06731345324867096106"
     },
     "user_tz": -120
    },
    "id": "ZZrdokKZIYjI",
    "outputId": "66a75c10-9041-46b3-beb2-6a625d1cf63d"
   },
   "outputs": [
    {
     "data": {
      "text/html": [
       "<div>\n",
       "<style scoped>\n",
       "    .dataframe tbody tr th:only-of-type {\n",
       "        vertical-align: middle;\n",
       "    }\n",
       "\n",
       "    .dataframe tbody tr th {\n",
       "        vertical-align: top;\n",
       "    }\n",
       "\n",
       "    .dataframe thead th {\n",
       "        text-align: right;\n",
       "    }\n",
       "</style>\n",
       "<table border=\"1\" class=\"dataframe\">\n",
       "  <thead>\n",
       "    <tr style=\"text-align: right;\">\n",
       "      <th></th>\n",
       "      <th>date</th>\n",
       "      <th>y</th>\n",
       "    </tr>\n",
       "  </thead>\n",
       "  <tbody>\n",
       "    <tr>\n",
       "      <th>418948</th>\n",
       "      <td>2015-01-01</td>\n",
       "      <td>1</td>\n",
       "    </tr>\n",
       "    <tr>\n",
       "      <th>405991</th>\n",
       "      <td>2015-01-01</td>\n",
       "      <td>1</td>\n",
       "    </tr>\n",
       "    <tr>\n",
       "      <th>405008</th>\n",
       "      <td>2015-01-01</td>\n",
       "      <td>1</td>\n",
       "    </tr>\n",
       "    <tr>\n",
       "      <th>423479</th>\n",
       "      <td>2015-01-01</td>\n",
       "      <td>1</td>\n",
       "    </tr>\n",
       "    <tr>\n",
       "      <th>393190</th>\n",
       "      <td>2015-01-01</td>\n",
       "      <td>1</td>\n",
       "    </tr>\n",
       "  </tbody>\n",
       "</table>\n",
       "</div>"
      ],
      "text/plain": [
       "             date  y\n",
       "418948 2015-01-01  1\n",
       "405991 2015-01-01  1\n",
       "405008 2015-01-01  1\n",
       "423479 2015-01-01  1\n",
       "393190 2015-01-01  1"
      ]
     },
     "execution_count": 76,
     "metadata": {
      "tags": []
     },
     "output_type": "execute_result"
    }
   ],
   "source": [
    "dfl = dfl.sort_values(by=['date'])\n",
    "dfl = dfl[['date']].copy()\n",
    "dfl['y'] = 1\n",
    "dfl.date = pd.to_datetime(dfl.date)\n",
    "dfl.head()"
   ]
  },
  {
   "cell_type": "code",
   "execution_count": 82,
   "metadata": {
    "colab": {
     "base_uri": "https://localhost:8080/",
     "height": 233
    },
    "executionInfo": {
     "elapsed": 893,
     "status": "ok",
     "timestamp": 1620329294046,
     "user": {
      "displayName": "Дмитрий Писляков",
      "photoUrl": "",
      "userId": "06731345324867096106"
     },
     "user_tz": -120
    },
    "id": "oDWomsAqIY0v",
    "outputId": "18cf4fb8-05de-46f3-a0f1-aaebbe4b7a61"
   },
   "outputs": [
    {
     "data": {
      "text/html": [
       "<div>\n",
       "<style scoped>\n",
       "    .dataframe tbody tr th:only-of-type {\n",
       "        vertical-align: middle;\n",
       "    }\n",
       "\n",
       "    .dataframe tbody tr th {\n",
       "        vertical-align: top;\n",
       "    }\n",
       "\n",
       "    .dataframe thead th {\n",
       "        text-align: right;\n",
       "    }\n",
       "</style>\n",
       "<table border=\"1\" class=\"dataframe\">\n",
       "  <thead>\n",
       "    <tr style=\"text-align: right;\">\n",
       "      <th></th>\n",
       "      <th>y</th>\n",
       "    </tr>\n",
       "    <tr>\n",
       "      <th>date</th>\n",
       "      <th></th>\n",
       "    </tr>\n",
       "  </thead>\n",
       "  <tbody>\n",
       "    <tr>\n",
       "      <th>2015-01-01</th>\n",
       "      <td>19</td>\n",
       "    </tr>\n",
       "    <tr>\n",
       "      <th>2015-01-02</th>\n",
       "      <td>23</td>\n",
       "    </tr>\n",
       "    <tr>\n",
       "      <th>2015-01-03</th>\n",
       "      <td>16</td>\n",
       "    </tr>\n",
       "    <tr>\n",
       "      <th>2015-01-04</th>\n",
       "      <td>17</td>\n",
       "    </tr>\n",
       "    <tr>\n",
       "      <th>2015-01-05</th>\n",
       "      <td>17</td>\n",
       "    </tr>\n",
       "  </tbody>\n",
       "</table>\n",
       "</div>"
      ],
      "text/plain": [
       "             y\n",
       "date          \n",
       "2015-01-01  19\n",
       "2015-01-02  23\n",
       "2015-01-03  16\n",
       "2015-01-04  17\n",
       "2015-01-05  17"
      ]
     },
     "execution_count": 82,
     "metadata": {
      "tags": []
     },
     "output_type": "execute_result"
    }
   ],
   "source": [
    "y = dfl.groupby(pd.Grouper(key='date',freq='D')).count()\n",
    "y.head()"
   ]
  },
  {
   "cell_type": "code",
   "execution_count": 78,
   "metadata": {
    "executionInfo": {
     "elapsed": 842,
     "status": "ok",
     "timestamp": 1620329236782,
     "user": {
      "displayName": "Дмитрий Писляков",
      "photoUrl": "",
      "userId": "06731345324867096106"
     },
     "user_tz": -120
    },
    "id": "g-emSuGSJRQA"
   },
   "outputs": [],
   "source": [
    "month_count = m['y'].values\n",
    "month = m['y'].index\n",
    "month_count = pd.DataFrame(month_count)\n",
    "month = pd.DataFrame(month)\n",
    "month['dtp'] = month_count[0]\n",
    "month.columns=['ds','y']"
   ]
  },
  {
   "cell_type": "code",
   "execution_count": 81,
   "metadata": {
    "executionInfo": {
     "elapsed": 1137,
     "status": "ok",
     "timestamp": 1620329267204,
     "user": {
      "displayName": "Дмитрий Писляков",
      "photoUrl": "",
      "userId": "06731345324867096106"
     },
     "user_tz": -120
    },
    "id": "120VXdeVJRSs"
   },
   "outputs": [],
   "source": [
    "week_count = w['y'].values\n",
    "week = w['y'].index\n",
    "week_count = pd.DataFrame(week_count)\n",
    "week = pd.DataFrame(week)\n",
    "week['dtp'] = week_count[0]\n",
    "week.columns=['ds','y']"
   ]
  },
  {
   "cell_type": "code",
   "execution_count": 83,
   "metadata": {
    "executionInfo": {
     "elapsed": 884,
     "status": "ok",
     "timestamp": 1620329301917,
     "user": {
      "displayName": "Дмитрий Писляков",
      "photoUrl": "",
      "userId": "06731345324867096106"
     },
     "user_tz": -120
    },
    "id": "yckCLE0MJRVV"
   },
   "outputs": [],
   "source": [
    "day_count = y['y'].values\n",
    "day = y['y'].index\n",
    "day_count = pd.DataFrame(day_count)\n",
    "day = pd.DataFrame(day)\n",
    "day['dtp'] = day_count[0]\n",
    "day.columns=['ds','y']"
   ]
  },
  {
   "cell_type": "markdown",
   "metadata": {
    "id": "RmLDYyPlIWXN"
   },
   "source": [
    "## РФ"
   ]
  },
  {
   "cell_type": "code",
   "execution_count": 3,
   "metadata": {
    "colab": {
     "base_uri": "https://localhost:8080/",
     "height": 202
    },
    "executionInfo": {
     "elapsed": 2267,
     "status": "ok",
     "timestamp": 1620323675749,
     "user": {
      "displayName": "Дмитрий Писляков",
      "photoUrl": "",
      "userId": "06731345324867096106"
     },
     "user_tz": -120
    },
    "id": "_pywYvhRqin0",
    "outputId": "9a8466ad-ffdd-479d-c912-addc3d9dc9da"
   },
   "outputs": [
    {
     "data": {
      "text/html": [
       "<div>\n",
       "<style scoped>\n",
       "    .dataframe tbody tr th:only-of-type {\n",
       "        vertical-align: middle;\n",
       "    }\n",
       "\n",
       "    .dataframe tbody tr th {\n",
       "        vertical-align: top;\n",
       "    }\n",
       "\n",
       "    .dataframe thead th {\n",
       "        text-align: right;\n",
       "    }\n",
       "</style>\n",
       "<table border=\"1\" class=\"dataframe\">\n",
       "  <thead>\n",
       "    <tr style=\"text-align: right;\">\n",
       "      <th></th>\n",
       "      <th>date</th>\n",
       "      <th>y</th>\n",
       "    </tr>\n",
       "  </thead>\n",
       "  <tbody>\n",
       "    <tr>\n",
       "      <th>343040</th>\n",
       "      <td>2015-01-01</td>\n",
       "      <td>1</td>\n",
       "    </tr>\n",
       "    <tr>\n",
       "      <th>539432</th>\n",
       "      <td>2015-01-01</td>\n",
       "      <td>1</td>\n",
       "    </tr>\n",
       "    <tr>\n",
       "      <th>539433</th>\n",
       "      <td>2015-01-01</td>\n",
       "      <td>1</td>\n",
       "    </tr>\n",
       "    <tr>\n",
       "      <th>459293</th>\n",
       "      <td>2015-01-01</td>\n",
       "      <td>1</td>\n",
       "    </tr>\n",
       "    <tr>\n",
       "      <th>529159</th>\n",
       "      <td>2015-01-01</td>\n",
       "      <td>1</td>\n",
       "    </tr>\n",
       "  </tbody>\n",
       "</table>\n",
       "</div>"
      ],
      "text/plain": [
       "             date  y\n",
       "343040 2015-01-01  1\n",
       "539432 2015-01-01  1\n",
       "539433 2015-01-01  1\n",
       "459293 2015-01-01  1\n",
       "529159 2015-01-01  1"
      ]
     },
     "execution_count": 3,
     "metadata": {
      "tags": []
     },
     "output_type": "execute_result"
    }
   ],
   "source": [
    "df = df.sort_values(by=['date'])\n",
    "df = df[['date']].copy()\n",
    "df['y'] = 1\n",
    "df.date = pd.to_datetime(df.date)\n",
    "df.head()"
   ]
  },
  {
   "cell_type": "code",
   "execution_count": 15,
   "metadata": {
    "colab": {
     "base_uri": "https://localhost:8080/",
     "height": 233
    },
    "executionInfo": {
     "elapsed": 774,
     "status": "ok",
     "timestamp": 1620323799538,
     "user": {
      "displayName": "Дмитрий Писляков",
      "photoUrl": "",
      "userId": "06731345324867096106"
     },
     "user_tz": -120
    },
    "id": "tOuQ1UWBqzt6",
    "outputId": "957af10d-3d53-4474-f2a6-9b0c0640990b"
   },
   "outputs": [
    {
     "data": {
      "text/html": [
       "<div>\n",
       "<style scoped>\n",
       "    .dataframe tbody tr th:only-of-type {\n",
       "        vertical-align: middle;\n",
       "    }\n",
       "\n",
       "    .dataframe tbody tr th {\n",
       "        vertical-align: top;\n",
       "    }\n",
       "\n",
       "    .dataframe thead th {\n",
       "        text-align: right;\n",
       "    }\n",
       "</style>\n",
       "<table border=\"1\" class=\"dataframe\">\n",
       "  <thead>\n",
       "    <tr style=\"text-align: right;\">\n",
       "      <th></th>\n",
       "      <th>y</th>\n",
       "    </tr>\n",
       "    <tr>\n",
       "      <th>date</th>\n",
       "      <th></th>\n",
       "    </tr>\n",
       "  </thead>\n",
       "  <tbody>\n",
       "    <tr>\n",
       "      <th>2015-12-31</th>\n",
       "      <td>183905</td>\n",
       "    </tr>\n",
       "    <tr>\n",
       "      <th>2016-12-31</th>\n",
       "      <td>173615</td>\n",
       "    </tr>\n",
       "    <tr>\n",
       "      <th>2017-12-31</th>\n",
       "      <td>169320</td>\n",
       "    </tr>\n",
       "    <tr>\n",
       "      <th>2018-12-31</th>\n",
       "      <td>168045</td>\n",
       "    </tr>\n",
       "    <tr>\n",
       "      <th>2019-12-31</th>\n",
       "      <td>147138</td>\n",
       "    </tr>\n",
       "  </tbody>\n",
       "</table>\n",
       "</div>"
      ],
      "text/plain": [
       "                 y\n",
       "date              \n",
       "2015-12-31  183905\n",
       "2016-12-31  173615\n",
       "2017-12-31  169320\n",
       "2018-12-31  168045\n",
       "2019-12-31  147138"
      ]
     },
     "execution_count": 15,
     "metadata": {
      "tags": []
     },
     "output_type": "execute_result"
    }
   ],
   "source": [
    "y = df.groupby(pd.Grouper(key='date',freq='Y')).count()\n",
    "y.head()"
   ]
  },
  {
   "cell_type": "code",
   "execution_count": 10,
   "metadata": {
    "executionInfo": {
     "elapsed": 833,
     "status": "ok",
     "timestamp": 1620323769996,
     "user": {
      "displayName": "Дмитрий Писляков",
      "photoUrl": "",
      "userId": "06731345324867096106"
     },
     "user_tz": -120
    },
    "id": "ajuXrZFDrB-4"
   },
   "outputs": [],
   "source": [
    "month_count = m['y'].values\n",
    "month = m['y'].index\n",
    "month_count = pd.DataFrame(month_count)\n",
    "month = pd.DataFrame(month)\n",
    "month['dtp'] = month_count[0]\n",
    "month.columns=['ds','y']"
   ]
  },
  {
   "cell_type": "code",
   "execution_count": 6,
   "metadata": {
    "executionInfo": {
     "elapsed": 1090,
     "status": "ok",
     "timestamp": 1620323739578,
     "user": {
      "displayName": "Дмитрий Писляков",
      "photoUrl": "",
      "userId": "06731345324867096106"
     },
     "user_tz": -120
    },
    "id": "hHk2rSyPyMXk"
   },
   "outputs": [],
   "source": [
    "week_count = w['y'].values\n",
    "week = w['y'].index\n",
    "week_count = pd.DataFrame(week_count)\n",
    "week = pd.DataFrame(week)\n",
    "week['dtp'] = week_count[0]\n",
    "week.columns=['ds','y']"
   ]
  },
  {
   "cell_type": "code",
   "execution_count": 12,
   "metadata": {
    "executionInfo": {
     "elapsed": 846,
     "status": "ok",
     "timestamp": 1620323782768,
     "user": {
      "displayName": "Дмитрий Писляков",
      "photoUrl": "",
      "userId": "06731345324867096106"
     },
     "user_tz": -120
    },
    "id": "_fzYkYl4vfcY"
   },
   "outputs": [],
   "source": [
    "day_count = y['y'].values\n",
    "day = y['y'].index\n",
    "day_count = pd.DataFrame(day_count)\n",
    "day = pd.DataFrame(day)\n",
    "day['dtp'] = day_count[0]\n",
    "day.columns=['ds','y']"
   ]
  },
  {
   "cell_type": "code",
   "execution_count": 14,
   "metadata": {
    "executionInfo": {
     "elapsed": 904,
     "status": "ok",
     "timestamp": 1620323793608,
     "user": {
      "displayName": "Дмитрий Писляков",
      "photoUrl": "",
      "userId": "06731345324867096106"
     },
     "user_tz": -120
    },
    "id": "17_yVLaEwNy7"
   },
   "outputs": [],
   "source": [
    "quorter_count = y['y'].values\n",
    "quorter = y['y'].index\n",
    "quorter_count = pd.DataFrame(quorter_count)\n",
    "quorter = pd.DataFrame(quorter)\n",
    "quorter['dtp'] = quorter_count[0]\n",
    "quorter.columns=['ds','y']"
   ]
  },
  {
   "cell_type": "code",
   "execution_count": 16,
   "metadata": {
    "executionInfo": {
     "elapsed": 979,
     "status": "ok",
     "timestamp": 1620323802852,
     "user": {
      "displayName": "Дмитрий Писляков",
      "photoUrl": "",
      "userId": "06731345324867096106"
     },
     "user_tz": -120
    },
    "id": "M0yBWDdPwO_i"
   },
   "outputs": [],
   "source": [
    "year_count = y['y'].values\n",
    "year = y['y'].index\n",
    "year_count = pd.DataFrame(year_count)\n",
    "year = pd.DataFrame(year)\n",
    "year['dtp'] = year_count[0]\n",
    "year.columns=['ds','y']"
   ]
  },
  {
   "cell_type": "code",
   "execution_count": 55,
   "metadata": {
    "executionInfo": {
     "elapsed": 978,
     "status": "ok",
     "timestamp": 1620328183051,
     "user": {
      "displayName": "Дмитрий Писляков",
      "photoUrl": "",
      "userId": "06731345324867096106"
     },
     "user_tz": -120
    },
    "id": "LDPQsQg7086N"
   },
   "outputs": [],
   "source": [
    "# Accuracy metrics\n",
    "def forecast_accuracy(forecast, actual):\n",
    "    mape = np.mean(np.abs(forecast - actual)/np.abs(actual))  # MAPE\n",
    "    me = np.mean(forecast - actual)             # ME\n",
    "    mae = np.mean(np.abs(forecast - actual))    # MAE\n",
    "    mpe = np.mean((forecast - actual)/actual)   # MPE\n",
    "    rmse = np.mean((forecast - actual)**2)**.5  # RMSE\n",
    "    corr = np.corrcoef(forecast, actual)[0,1]   # corr\n",
    "    mins = np.amin(np.hstack([forecast[:,None], \n",
    "                              actual[:,None]]), axis=1)\n",
    "    maxs = np.amax(np.hstack([forecast[:,None], \n",
    "                              actual[:,None]]), axis=1)\n",
    "    minmax = 1 - np.mean(mins/maxs)             # minmax\n",
    "    #acf1 = acf(fc-test)[1]                      # ACF1\n",
    "    return({'Средняя абсолютная процентная ошибка':mape, 'Средняя ошибка':me, 'Средняя абсолютная ошибка': mae, \n",
    "            'Средняя ошибка в процентах': mpe, 'Среднеквадратичная ошибка':rmse, #'acf1':acf1, \n",
    "            'Соотношение фактического и прогноза':corr, 'Мин-макс ошибка':minmax})"
   ]
  },
  {
   "cell_type": "code",
   "execution_count": 92,
   "metadata": {
    "colab": {
     "base_uri": "https://localhost:8080/",
     "height": 1000
    },
    "executionInfo": {
     "elapsed": 891,
     "status": "ok",
     "timestamp": 1620329762469,
     "user": {
      "displayName": "Дмитрий Писляков",
      "photoUrl": "",
      "userId": "06731345324867096106"
     },
     "user_tz": -120
    },
    "id": "8fac6JLDKYnJ",
    "outputId": "734cda88-76e0-43a8-bb88-a4e71e2ab4ec"
   },
   "outputs": [
    {
     "data": {
      "text/html": [
       "<div>\n",
       "<style scoped>\n",
       "    .dataframe tbody tr th:only-of-type {\n",
       "        vertical-align: middle;\n",
       "    }\n",
       "\n",
       "    .dataframe tbody tr th {\n",
       "        vertical-align: top;\n",
       "    }\n",
       "\n",
       "    .dataframe thead th {\n",
       "        text-align: right;\n",
       "    }\n",
       "</style>\n",
       "<table border=\"1\" class=\"dataframe\">\n",
       "  <thead>\n",
       "    <tr style=\"text-align: right;\">\n",
       "      <th></th>\n",
       "      <th>ds</th>\n",
       "      <th>y</th>\n",
       "    </tr>\n",
       "  </thead>\n",
       "  <tbody>\n",
       "    <tr>\n",
       "      <th>0</th>\n",
       "      <td>2015-01-31</td>\n",
       "      <td>701</td>\n",
       "    </tr>\n",
       "    <tr>\n",
       "      <th>1</th>\n",
       "      <td>2015-02-28</td>\n",
       "      <td>686</td>\n",
       "    </tr>\n",
       "    <tr>\n",
       "      <th>2</th>\n",
       "      <td>2015-03-31</td>\n",
       "      <td>700</td>\n",
       "    </tr>\n",
       "    <tr>\n",
       "      <th>3</th>\n",
       "      <td>2015-04-30</td>\n",
       "      <td>765</td>\n",
       "    </tr>\n",
       "    <tr>\n",
       "      <th>4</th>\n",
       "      <td>2015-05-31</td>\n",
       "      <td>926</td>\n",
       "    </tr>\n",
       "    <tr>\n",
       "      <th>5</th>\n",
       "      <td>2015-06-30</td>\n",
       "      <td>832</td>\n",
       "    </tr>\n",
       "    <tr>\n",
       "      <th>6</th>\n",
       "      <td>2015-07-31</td>\n",
       "      <td>783</td>\n",
       "    </tr>\n",
       "    <tr>\n",
       "      <th>7</th>\n",
       "      <td>2015-08-31</td>\n",
       "      <td>898</td>\n",
       "    </tr>\n",
       "    <tr>\n",
       "      <th>8</th>\n",
       "      <td>2015-09-30</td>\n",
       "      <td>908</td>\n",
       "    </tr>\n",
       "    <tr>\n",
       "      <th>9</th>\n",
       "      <td>2015-10-31</td>\n",
       "      <td>855</td>\n",
       "    </tr>\n",
       "    <tr>\n",
       "      <th>10</th>\n",
       "      <td>2015-11-30</td>\n",
       "      <td>834</td>\n",
       "    </tr>\n",
       "    <tr>\n",
       "      <th>11</th>\n",
       "      <td>2015-12-31</td>\n",
       "      <td>938</td>\n",
       "    </tr>\n",
       "    <tr>\n",
       "      <th>12</th>\n",
       "      <td>2016-01-31</td>\n",
       "      <td>570</td>\n",
       "    </tr>\n",
       "    <tr>\n",
       "      <th>13</th>\n",
       "      <td>2016-02-29</td>\n",
       "      <td>586</td>\n",
       "    </tr>\n",
       "    <tr>\n",
       "      <th>14</th>\n",
       "      <td>2016-03-31</td>\n",
       "      <td>622</td>\n",
       "    </tr>\n",
       "    <tr>\n",
       "      <th>15</th>\n",
       "      <td>2016-04-30</td>\n",
       "      <td>643</td>\n",
       "    </tr>\n",
       "    <tr>\n",
       "      <th>16</th>\n",
       "      <td>2016-05-31</td>\n",
       "      <td>685</td>\n",
       "    </tr>\n",
       "    <tr>\n",
       "      <th>17</th>\n",
       "      <td>2016-06-30</td>\n",
       "      <td>635</td>\n",
       "    </tr>\n",
       "    <tr>\n",
       "      <th>18</th>\n",
       "      <td>2016-07-31</td>\n",
       "      <td>671</td>\n",
       "    </tr>\n",
       "    <tr>\n",
       "      <th>19</th>\n",
       "      <td>2016-08-31</td>\n",
       "      <td>746</td>\n",
       "    </tr>\n",
       "    <tr>\n",
       "      <th>20</th>\n",
       "      <td>2016-09-30</td>\n",
       "      <td>840</td>\n",
       "    </tr>\n",
       "    <tr>\n",
       "      <th>21</th>\n",
       "      <td>2016-10-31</td>\n",
       "      <td>680</td>\n",
       "    </tr>\n",
       "    <tr>\n",
       "      <th>22</th>\n",
       "      <td>2016-11-30</td>\n",
       "      <td>654</td>\n",
       "    </tr>\n",
       "    <tr>\n",
       "      <th>23</th>\n",
       "      <td>2016-12-31</td>\n",
       "      <td>649</td>\n",
       "    </tr>\n",
       "    <tr>\n",
       "      <th>24</th>\n",
       "      <td>2017-01-31</td>\n",
       "      <td>507</td>\n",
       "    </tr>\n",
       "    <tr>\n",
       "      <th>25</th>\n",
       "      <td>2017-02-28</td>\n",
       "      <td>516</td>\n",
       "    </tr>\n",
       "    <tr>\n",
       "      <th>26</th>\n",
       "      <td>2017-03-31</td>\n",
       "      <td>634</td>\n",
       "    </tr>\n",
       "    <tr>\n",
       "      <th>27</th>\n",
       "      <td>2017-04-30</td>\n",
       "      <td>581</td>\n",
       "    </tr>\n",
       "    <tr>\n",
       "      <th>28</th>\n",
       "      <td>2017-05-31</td>\n",
       "      <td>644</td>\n",
       "    </tr>\n",
       "    <tr>\n",
       "      <th>29</th>\n",
       "      <td>2017-06-30</td>\n",
       "      <td>652</td>\n",
       "    </tr>\n",
       "    <tr>\n",
       "      <th>30</th>\n",
       "      <td>2017-07-31</td>\n",
       "      <td>626</td>\n",
       "    </tr>\n",
       "    <tr>\n",
       "      <th>31</th>\n",
       "      <td>2017-08-31</td>\n",
       "      <td>713</td>\n",
       "    </tr>\n",
       "    <tr>\n",
       "      <th>32</th>\n",
       "      <td>2017-09-30</td>\n",
       "      <td>724</td>\n",
       "    </tr>\n",
       "    <tr>\n",
       "      <th>33</th>\n",
       "      <td>2017-10-31</td>\n",
       "      <td>764</td>\n",
       "    </tr>\n",
       "    <tr>\n",
       "      <th>34</th>\n",
       "      <td>2017-11-30</td>\n",
       "      <td>758</td>\n",
       "    </tr>\n",
       "    <tr>\n",
       "      <th>35</th>\n",
       "      <td>2017-12-31</td>\n",
       "      <td>732</td>\n",
       "    </tr>\n",
       "    <tr>\n",
       "      <th>36</th>\n",
       "      <td>2018-01-31</td>\n",
       "      <td>573</td>\n",
       "    </tr>\n",
       "    <tr>\n",
       "      <th>37</th>\n",
       "      <td>2018-02-28</td>\n",
       "      <td>470</td>\n",
       "    </tr>\n",
       "    <tr>\n",
       "      <th>38</th>\n",
       "      <td>2018-03-31</td>\n",
       "      <td>595</td>\n",
       "    </tr>\n",
       "    <tr>\n",
       "      <th>39</th>\n",
       "      <td>2018-04-30</td>\n",
       "      <td>595</td>\n",
       "    </tr>\n",
       "    <tr>\n",
       "      <th>40</th>\n",
       "      <td>2018-05-31</td>\n",
       "      <td>757</td>\n",
       "    </tr>\n",
       "    <tr>\n",
       "      <th>41</th>\n",
       "      <td>2018-06-30</td>\n",
       "      <td>692</td>\n",
       "    </tr>\n",
       "    <tr>\n",
       "      <th>42</th>\n",
       "      <td>2018-07-31</td>\n",
       "      <td>591</td>\n",
       "    </tr>\n",
       "    <tr>\n",
       "      <th>43</th>\n",
       "      <td>2018-08-31</td>\n",
       "      <td>733</td>\n",
       "    </tr>\n",
       "    <tr>\n",
       "      <th>44</th>\n",
       "      <td>2018-09-30</td>\n",
       "      <td>763</td>\n",
       "    </tr>\n",
       "    <tr>\n",
       "      <th>45</th>\n",
       "      <td>2018-10-31</td>\n",
       "      <td>819</td>\n",
       "    </tr>\n",
       "    <tr>\n",
       "      <th>46</th>\n",
       "      <td>2018-11-30</td>\n",
       "      <td>779</td>\n",
       "    </tr>\n",
       "    <tr>\n",
       "      <th>47</th>\n",
       "      <td>2018-12-31</td>\n",
       "      <td>767</td>\n",
       "    </tr>\n",
       "    <tr>\n",
       "      <th>48</th>\n",
       "      <td>2019-01-31</td>\n",
       "      <td>573</td>\n",
       "    </tr>\n",
       "    <tr>\n",
       "      <th>49</th>\n",
       "      <td>2019-02-28</td>\n",
       "      <td>563</td>\n",
       "    </tr>\n",
       "    <tr>\n",
       "      <th>50</th>\n",
       "      <td>2019-03-31</td>\n",
       "      <td>592</td>\n",
       "    </tr>\n",
       "    <tr>\n",
       "      <th>51</th>\n",
       "      <td>2019-04-30</td>\n",
       "      <td>588</td>\n",
       "    </tr>\n",
       "    <tr>\n",
       "      <th>52</th>\n",
       "      <td>2019-05-31</td>\n",
       "      <td>665</td>\n",
       "    </tr>\n",
       "    <tr>\n",
       "      <th>53</th>\n",
       "      <td>2019-06-30</td>\n",
       "      <td>675</td>\n",
       "    </tr>\n",
       "    <tr>\n",
       "      <th>54</th>\n",
       "      <td>2019-07-31</td>\n",
       "      <td>599</td>\n",
       "    </tr>\n",
       "    <tr>\n",
       "      <th>55</th>\n",
       "      <td>2019-08-31</td>\n",
       "      <td>689</td>\n",
       "    </tr>\n",
       "    <tr>\n",
       "      <th>56</th>\n",
       "      <td>2019-09-30</td>\n",
       "      <td>764</td>\n",
       "    </tr>\n",
       "    <tr>\n",
       "      <th>57</th>\n",
       "      <td>2019-10-31</td>\n",
       "      <td>822</td>\n",
       "    </tr>\n",
       "    <tr>\n",
       "      <th>58</th>\n",
       "      <td>2019-11-30</td>\n",
       "      <td>758</td>\n",
       "    </tr>\n",
       "  </tbody>\n",
       "</table>\n",
       "</div>"
      ],
      "text/plain": [
       "           ds    y\n",
       "0  2015-01-31  701\n",
       "1  2015-02-28  686\n",
       "2  2015-03-31  700\n",
       "3  2015-04-30  765\n",
       "4  2015-05-31  926\n",
       "5  2015-06-30  832\n",
       "6  2015-07-31  783\n",
       "7  2015-08-31  898\n",
       "8  2015-09-30  908\n",
       "9  2015-10-31  855\n",
       "10 2015-11-30  834\n",
       "11 2015-12-31  938\n",
       "12 2016-01-31  570\n",
       "13 2016-02-29  586\n",
       "14 2016-03-31  622\n",
       "15 2016-04-30  643\n",
       "16 2016-05-31  685\n",
       "17 2016-06-30  635\n",
       "18 2016-07-31  671\n",
       "19 2016-08-31  746\n",
       "20 2016-09-30  840\n",
       "21 2016-10-31  680\n",
       "22 2016-11-30  654\n",
       "23 2016-12-31  649\n",
       "24 2017-01-31  507\n",
       "25 2017-02-28  516\n",
       "26 2017-03-31  634\n",
       "27 2017-04-30  581\n",
       "28 2017-05-31  644\n",
       "29 2017-06-30  652\n",
       "30 2017-07-31  626\n",
       "31 2017-08-31  713\n",
       "32 2017-09-30  724\n",
       "33 2017-10-31  764\n",
       "34 2017-11-30  758\n",
       "35 2017-12-31  732\n",
       "36 2018-01-31  573\n",
       "37 2018-02-28  470\n",
       "38 2018-03-31  595\n",
       "39 2018-04-30  595\n",
       "40 2018-05-31  757\n",
       "41 2018-06-30  692\n",
       "42 2018-07-31  591\n",
       "43 2018-08-31  733\n",
       "44 2018-09-30  763\n",
       "45 2018-10-31  819\n",
       "46 2018-11-30  779\n",
       "47 2018-12-31  767\n",
       "48 2019-01-31  573\n",
       "49 2019-02-28  563\n",
       "50 2019-03-31  592\n",
       "51 2019-04-30  588\n",
       "52 2019-05-31  665\n",
       "53 2019-06-30  675\n",
       "54 2019-07-31  599\n",
       "55 2019-08-31  689\n",
       "56 2019-09-30  764\n",
       "57 2019-10-31  822\n",
       "58 2019-11-30  758"
      ]
     },
     "execution_count": 92,
     "metadata": {
      "tags": []
     },
     "output_type": "execute_result"
    }
   ],
   "source": [
    "month"
   ]
  },
  {
   "cell_type": "code",
   "execution_count": 93,
   "metadata": {
    "colab": {
     "base_uri": "https://localhost:8080/"
    },
    "executionInfo": {
     "elapsed": 949,
     "status": "ok",
     "timestamp": 1620329784591,
     "user": {
      "displayName": "Дмитрий Писляков",
      "photoUrl": "",
      "userId": "06731345324867096106"
     },
     "user_tz": -120
    },
    "id": "rPo0CdPOxhid",
    "outputId": "bc20164c-911a-4de0-8d15-64c573e3a5de"
   },
   "outputs": [
    {
     "name": "stdout",
     "output_type": "stream",
     "text": [
      "47 month of training data \n",
      " 12 month of testing data \n"
     ]
    }
   ],
   "source": [
    "split_date ='2018-12-30'\n",
    "df_training = month.loc[month.ds <= split_date]\n",
    "df_test = month.loc[month.ds > split_date]\n",
    "print(f\"{len(df_training)} month of training data \\n {len(df_test)} month of testing data \")"
   ]
  },
  {
   "cell_type": "markdown",
   "metadata": {
    "id": "aA3gaRXrF2u3"
   },
   "source": [
    "# Prophet"
   ]
  },
  {
   "cell_type": "markdown",
   "metadata": {
    "id": "FQWnh_1dF5sd"
   },
   "source": [
    "## По РФ"
   ]
  },
  {
   "cell_type": "markdown",
   "metadata": {
    "id": "V003Ghc2F9UG"
   },
   "source": [
    "## Посуточное прогнозирование значений ДТП"
   ]
  },
  {
   "cell_type": "code",
   "execution_count": 21,
   "metadata": {
    "colab": {
     "base_uri": "https://localhost:8080/",
     "height": 344
    },
    "executionInfo": {
     "elapsed": 5065,
     "status": "ok",
     "timestamp": 1620324025245,
     "user": {
      "displayName": "Дмитрий Писляков",
      "photoUrl": "",
      "userId": "06731345324867096106"
     },
     "user_tz": -120
    },
    "id": "6SJIRmKKzEzc",
    "outputId": "c39193c3-4019-4582-d38c-f04240f1e639"
   },
   "outputs": [
    {
     "name": "stderr",
     "output_type": "stream",
     "text": [
      "INFO:numexpr.utils:NumExpr defaulting to 2 threads.\n",
      "INFO:fbprophet:Disabling daily seasonality. Run prophet with daily_seasonality=True to override this.\n"
     ]
    },
    {
     "data": {
      "text/html": [
       "<div>\n",
       "<style scoped>\n",
       "    .dataframe tbody tr th:only-of-type {\n",
       "        vertical-align: middle;\n",
       "    }\n",
       "\n",
       "    .dataframe tbody tr th {\n",
       "        vertical-align: top;\n",
       "    }\n",
       "\n",
       "    .dataframe thead th {\n",
       "        text-align: right;\n",
       "    }\n",
       "</style>\n",
       "<table border=\"1\" class=\"dataframe\">\n",
       "  <thead>\n",
       "    <tr style=\"text-align: right;\">\n",
       "      <th></th>\n",
       "      <th>ds</th>\n",
       "      <th>trend</th>\n",
       "      <th>yhat_lower</th>\n",
       "      <th>yhat_upper</th>\n",
       "      <th>trend_lower</th>\n",
       "      <th>trend_upper</th>\n",
       "      <th>multiplicative_terms</th>\n",
       "      <th>multiplicative_terms_lower</th>\n",
       "      <th>multiplicative_terms_upper</th>\n",
       "      <th>weekly</th>\n",
       "      <th>weekly_lower</th>\n",
       "      <th>weekly_upper</th>\n",
       "      <th>yearly</th>\n",
       "      <th>yearly_lower</th>\n",
       "      <th>yearly_upper</th>\n",
       "      <th>additive_terms</th>\n",
       "      <th>additive_terms_lower</th>\n",
       "      <th>additive_terms_upper</th>\n",
       "      <th>yhat</th>\n",
       "    </tr>\n",
       "  </thead>\n",
       "  <tbody>\n",
       "    <tr>\n",
       "      <th>0</th>\n",
       "      <td>2019-11-01</td>\n",
       "      <td>433.019004</td>\n",
       "      <td>449.748642</td>\n",
       "      <td>559.172103</td>\n",
       "      <td>433.019004</td>\n",
       "      <td>433.019004</td>\n",
       "      <td>0.166634</td>\n",
       "      <td>0.166634</td>\n",
       "      <td>0.166634</td>\n",
       "      <td>0.073480</td>\n",
       "      <td>0.073480</td>\n",
       "      <td>0.073480</td>\n",
       "      <td>0.093154</td>\n",
       "      <td>0.093154</td>\n",
       "      <td>0.093154</td>\n",
       "      <td>0.0</td>\n",
       "      <td>0.0</td>\n",
       "      <td>0.0</td>\n",
       "      <td>505.174499</td>\n",
       "    </tr>\n",
       "    <tr>\n",
       "      <th>1</th>\n",
       "      <td>2019-11-02</td>\n",
       "      <td>432.942899</td>\n",
       "      <td>457.054199</td>\n",
       "      <td>563.862075</td>\n",
       "      <td>432.942899</td>\n",
       "      <td>432.942899</td>\n",
       "      <td>0.175998</td>\n",
       "      <td>0.175998</td>\n",
       "      <td>0.175998</td>\n",
       "      <td>0.085836</td>\n",
       "      <td>0.085836</td>\n",
       "      <td>0.085836</td>\n",
       "      <td>0.090163</td>\n",
       "      <td>0.090163</td>\n",
       "      <td>0.090163</td>\n",
       "      <td>0.0</td>\n",
       "      <td>0.0</td>\n",
       "      <td>0.0</td>\n",
       "      <td>509.140200</td>\n",
       "    </tr>\n",
       "    <tr>\n",
       "      <th>2</th>\n",
       "      <td>2019-11-03</td>\n",
       "      <td>432.866794</td>\n",
       "      <td>405.471609</td>\n",
       "      <td>519.342967</td>\n",
       "      <td>432.866794</td>\n",
       "      <td>432.866794</td>\n",
       "      <td>0.060541</td>\n",
       "      <td>0.060541</td>\n",
       "      <td>0.060541</td>\n",
       "      <td>-0.026729</td>\n",
       "      <td>-0.026729</td>\n",
       "      <td>-0.026729</td>\n",
       "      <td>0.087271</td>\n",
       "      <td>0.087271</td>\n",
       "      <td>0.087271</td>\n",
       "      <td>0.0</td>\n",
       "      <td>0.0</td>\n",
       "      <td>0.0</td>\n",
       "      <td>459.073148</td>\n",
       "    </tr>\n",
       "    <tr>\n",
       "      <th>3</th>\n",
       "      <td>2019-11-04</td>\n",
       "      <td>432.790688</td>\n",
       "      <td>406.774070</td>\n",
       "      <td>517.666881</td>\n",
       "      <td>432.790688</td>\n",
       "      <td>432.790688</td>\n",
       "      <td>0.068470</td>\n",
       "      <td>0.068470</td>\n",
       "      <td>0.068470</td>\n",
       "      <td>-0.015957</td>\n",
       "      <td>-0.015957</td>\n",
       "      <td>-0.015957</td>\n",
       "      <td>0.084428</td>\n",
       "      <td>0.084428</td>\n",
       "      <td>0.084428</td>\n",
       "      <td>0.0</td>\n",
       "      <td>0.0</td>\n",
       "      <td>0.0</td>\n",
       "      <td>462.423973</td>\n",
       "    </tr>\n",
       "    <tr>\n",
       "      <th>4</th>\n",
       "      <td>2019-11-05</td>\n",
       "      <td>432.714583</td>\n",
       "      <td>400.524824</td>\n",
       "      <td>510.047353</td>\n",
       "      <td>432.714583</td>\n",
       "      <td>432.714583</td>\n",
       "      <td>0.044799</td>\n",
       "      <td>0.044799</td>\n",
       "      <td>0.044799</td>\n",
       "      <td>-0.036786</td>\n",
       "      <td>-0.036786</td>\n",
       "      <td>-0.036786</td>\n",
       "      <td>0.081585</td>\n",
       "      <td>0.081585</td>\n",
       "      <td>0.081585</td>\n",
       "      <td>0.0</td>\n",
       "      <td>0.0</td>\n",
       "      <td>0.0</td>\n",
       "      <td>452.099859</td>\n",
       "    </tr>\n",
       "  </tbody>\n",
       "</table>\n",
       "</div>"
      ],
      "text/plain": [
       "          ds       trend  ...  additive_terms_upper        yhat\n",
       "0 2019-11-01  433.019004  ...                   0.0  505.174499\n",
       "1 2019-11-02  432.942899  ...                   0.0  509.140200\n",
       "2 2019-11-03  432.866794  ...                   0.0  459.073148\n",
       "3 2019-11-04  432.790688  ...                   0.0  462.423973\n",
       "4 2019-11-05  432.714583  ...                   0.0  452.099859\n",
       "\n",
       "[5 rows x 19 columns]"
      ]
     },
     "execution_count": 21,
     "metadata": {
      "tags": []
     },
     "output_type": "execute_result"
    }
   ],
   "source": [
    "m=Prophet(seasonality_mode='multiplicative')\n",
    "m.fit(df_training)\n",
    "future=m.make_future_dataframe(periods=30,freq='D')\n",
    "forecast=m.predict(df_test)\n",
    "forecast.head()"
   ]
  },
  {
   "cell_type": "code",
   "execution_count": 59,
   "metadata": {
    "colab": {
     "base_uri": "https://localhost:8080/",
     "height": 672
    },
    "executionInfo": {
     "elapsed": 1236,
     "status": "ok",
     "timestamp": 1620328266145,
     "user": {
      "displayName": "Дмитрий Писляков",
      "photoUrl": "",
      "userId": "06731345324867096106"
     },
     "user_tz": -120
    },
    "id": "M7lp9_Z-1m1X",
    "outputId": "91239b56-9095-40c2-892d-41848c230f93"
   },
   "outputs": [
    {
     "data": {
      "text/plain": [
       "{'Мин-макс ошибка': 0.07298744219224684,\n",
       " 'Соотношение фактического и прогноза': 0.49071139355169263,\n",
       " 'Среднеквадратичная ошибка': 43.51659518464196,\n",
       " 'Средняя абсолютная ошибка': 35.0561992696747,\n",
       " 'Средняя абсолютная процентная ошибка': 0.07830165330428357,\n",
       " 'Средняя ошибка': 0.1742175126359863,\n",
       " 'Средняя ошибка в процентах': 0.009402561178763884}"
      ]
     },
     "execution_count": 59,
     "metadata": {
      "tags": []
     },
     "output_type": "execute_result"
    },
    {
     "data": {
      "image/png": "[encoded data removed]",
      "text/plain": [
       "<Figure size 864x576 with 1 Axes>"
      ]
     },
     "metadata": {
      "tags": []
     },
     "output_type": "display_data"
    }
   ],
   "source": [
    "ax=forecast.plot(x='ds',y='yhat',legend=True,label='predictions',figsize=(12,8))\n",
    "df_test.plot(x='ds',y='y',legend=True,label='True Test Data',ax=ax,xlim=('2019-10-31','2019-11-30'))\n",
    "forecast_accuracy(forecast.yhat.values,df_test.y.values)"
   ]
  },
  {
   "cell_type": "markdown",
   "metadata": {
    "id": "69OGGQRWGLCw"
   },
   "source": [
    "## Понедельное прогнозирование значений ДТП"
   ]
  },
  {
   "cell_type": "code",
   "execution_count": 63,
   "metadata": {
    "colab": {
     "base_uri": "https://localhost:8080/",
     "height": 344
    },
    "executionInfo": {
     "elapsed": 2489,
     "status": "ok",
     "timestamp": 1620328473707,
     "user": {
      "displayName": "Дмитрий Писляков",
      "photoUrl": "",
      "userId": "06731345324867096106"
     },
     "user_tz": -120
    },
    "id": "P-tKITdjFGLP",
    "outputId": "2d78daaa-a9cb-4a04-9b29-d6c28b5269c9"
   },
   "outputs": [
    {
     "name": "stderr",
     "output_type": "stream",
     "text": [
      "INFO:fbprophet:Disabling weekly seasonality. Run prophet with weekly_seasonality=True to override this.\n",
      "INFO:fbprophet:Disabling daily seasonality. Run prophet with daily_seasonality=True to override this.\n"
     ]
    },
    {
     "data": {
      "text/html": [
       "<div>\n",
       "<style scoped>\n",
       "    .dataframe tbody tr th:only-of-type {\n",
       "        vertical-align: middle;\n",
       "    }\n",
       "\n",
       "    .dataframe tbody tr th {\n",
       "        vertical-align: top;\n",
       "    }\n",
       "\n",
       "    .dataframe thead th {\n",
       "        text-align: right;\n",
       "    }\n",
       "</style>\n",
       "<table border=\"1\" class=\"dataframe\">\n",
       "  <thead>\n",
       "    <tr style=\"text-align: right;\">\n",
       "      <th></th>\n",
       "      <th>ds</th>\n",
       "      <th>trend</th>\n",
       "      <th>yhat_lower</th>\n",
       "      <th>yhat_upper</th>\n",
       "      <th>trend_lower</th>\n",
       "      <th>trend_upper</th>\n",
       "      <th>multiplicative_terms</th>\n",
       "      <th>multiplicative_terms_lower</th>\n",
       "      <th>multiplicative_terms_upper</th>\n",
       "      <th>yearly</th>\n",
       "      <th>yearly_lower</th>\n",
       "      <th>yearly_upper</th>\n",
       "      <th>additive_terms</th>\n",
       "      <th>additive_terms_lower</th>\n",
       "      <th>additive_terms_upper</th>\n",
       "      <th>yhat</th>\n",
       "    </tr>\n",
       "  </thead>\n",
       "  <tbody>\n",
       "    <tr>\n",
       "      <th>0</th>\n",
       "      <td>2019-08-11</td>\n",
       "      <td>3150.307075</td>\n",
       "      <td>3532.847616</td>\n",
       "      <td>4054.768583</td>\n",
       "      <td>3150.307075</td>\n",
       "      <td>3150.307075</td>\n",
       "      <td>0.205607</td>\n",
       "      <td>0.205607</td>\n",
       "      <td>0.205607</td>\n",
       "      <td>0.205607</td>\n",
       "      <td>0.205607</td>\n",
       "      <td>0.205607</td>\n",
       "      <td>0.0</td>\n",
       "      <td>0.0</td>\n",
       "      <td>0.0</td>\n",
       "      <td>3798.032633</td>\n",
       "    </tr>\n",
       "    <tr>\n",
       "      <th>1</th>\n",
       "      <td>2019-08-18</td>\n",
       "      <td>3149.371314</td>\n",
       "      <td>3577.464754</td>\n",
       "      <td>4100.592719</td>\n",
       "      <td>3149.371314</td>\n",
       "      <td>3149.371314</td>\n",
       "      <td>0.216852</td>\n",
       "      <td>0.216852</td>\n",
       "      <td>0.216852</td>\n",
       "      <td>0.216852</td>\n",
       "      <td>0.216852</td>\n",
       "      <td>0.216852</td>\n",
       "      <td>0.0</td>\n",
       "      <td>0.0</td>\n",
       "      <td>0.0</td>\n",
       "      <td>3832.317393</td>\n",
       "    </tr>\n",
       "    <tr>\n",
       "      <th>2</th>\n",
       "      <td>2019-08-25</td>\n",
       "      <td>3148.435553</td>\n",
       "      <td>3572.415036</td>\n",
       "      <td>4097.964937</td>\n",
       "      <td>3148.348920</td>\n",
       "      <td>3148.465917</td>\n",
       "      <td>0.219681</td>\n",
       "      <td>0.219681</td>\n",
       "      <td>0.219681</td>\n",
       "      <td>0.219681</td>\n",
       "      <td>0.219681</td>\n",
       "      <td>0.219681</td>\n",
       "      <td>0.0</td>\n",
       "      <td>0.0</td>\n",
       "      <td>0.0</td>\n",
       "      <td>3840.085996</td>\n",
       "    </tr>\n",
       "    <tr>\n",
       "      <th>3</th>\n",
       "      <td>2019-09-01</td>\n",
       "      <td>3147.499791</td>\n",
       "      <td>3566.631728</td>\n",
       "      <td>4063.638161</td>\n",
       "      <td>3147.306722</td>\n",
       "      <td>3147.594906</td>\n",
       "      <td>0.215345</td>\n",
       "      <td>0.215345</td>\n",
       "      <td>0.215345</td>\n",
       "      <td>0.215345</td>\n",
       "      <td>0.215345</td>\n",
       "      <td>0.215345</td>\n",
       "      <td>0.0</td>\n",
       "      <td>0.0</td>\n",
       "      <td>0.0</td>\n",
       "      <td>3825.298377</td>\n",
       "    </tr>\n",
       "    <tr>\n",
       "      <th>4</th>\n",
       "      <td>2019-09-08</td>\n",
       "      <td>3146.564030</td>\n",
       "      <td>3557.776438</td>\n",
       "      <td>4071.701235</td>\n",
       "      <td>3146.255987</td>\n",
       "      <td>3146.794247</td>\n",
       "      <td>0.210514</td>\n",
       "      <td>0.210514</td>\n",
       "      <td>0.210514</td>\n",
       "      <td>0.210514</td>\n",
       "      <td>0.210514</td>\n",
       "      <td>0.210514</td>\n",
       "      <td>0.0</td>\n",
       "      <td>0.0</td>\n",
       "      <td>0.0</td>\n",
       "      <td>3808.958437</td>\n",
       "    </tr>\n",
       "  </tbody>\n",
       "</table>\n",
       "</div>"
      ],
      "text/plain": [
       "          ds        trend  ...  additive_terms_upper         yhat\n",
       "0 2019-08-11  3150.307075  ...                   0.0  3798.032633\n",
       "1 2019-08-18  3149.371314  ...                   0.0  3832.317393\n",
       "2 2019-08-25  3148.435553  ...                   0.0  3840.085996\n",
       "3 2019-09-01  3147.499791  ...                   0.0  3825.298377\n",
       "4 2019-09-08  3146.564030  ...                   0.0  3808.958437\n",
       "\n",
       "[5 rows x 16 columns]"
      ]
     },
     "execution_count": 63,
     "metadata": {
      "tags": []
     },
     "output_type": "execute_result"
    }
   ],
   "source": [
    "m=Prophet(seasonality_mode='multiplicative')\n",
    "m.fit(df_training)\n",
    "future=m.make_future_dataframe(periods=17,freq='W')\n",
    "forecast=m.predict(df_test)\n",
    "forecast.head()"
   ]
  },
  {
   "cell_type": "code",
   "execution_count": 65,
   "metadata": {
    "colab": {
     "base_uri": "https://localhost:8080/",
     "height": 640
    },
    "executionInfo": {
     "elapsed": 1311,
     "status": "ok",
     "timestamp": 1620328524740,
     "user": {
      "displayName": "Дмитрий Писляков",
      "photoUrl": "",
      "userId": "06731345324867096106"
     },
     "user_tz": -120
    },
    "id": "UbBpBnTrGlpu",
    "outputId": "3fa5d587-39c5-455a-a18d-2c0d83361e3d"
   },
   "outputs": [
    {
     "data": {
      "text/plain": [
       "{'Мин-макс ошибка': 0.04677725579090075,\n",
       " 'Соотношение фактического и прогноза': 0.8535813805181327,\n",
       " 'Среднеквадратичная ошибка': 224.11980753962166,\n",
       " 'Средняя абсолютная ошибка': 169.8802203076358,\n",
       " 'Средняя абсолютная процентная ошибка': 0.05108109215224762,\n",
       " 'Средняя ошибка': 160.41209192432348,\n",
       " 'Средняя ошибка в процентах': 0.04863826515317956}"
      ]
     },
     "execution_count": 65,
     "metadata": {
      "tags": []
     },
     "output_type": "execute_result"
    },
    {
     "data": {
      "image/png": "[encoded data removed]",
      "text/plain": [
       "<Figure size 864x576 with 1 Axes>"
      ]
     },
     "metadata": {
      "tags": []
     },
     "output_type": "display_data"
    }
   ],
   "source": [
    "ax=forecast.plot(x='ds',y='yhat',legend=True,label='predictions',figsize=(12,8))\n",
    "df_test.plot(x='ds',y='y',legend=True,label='True Test Data',ax=ax,xlim=('2019-08-04','2019-12-01'))\n",
    "forecast_accuracy(forecast.yhat.values,df_test.y.values)"
   ]
  },
  {
   "cell_type": "markdown",
   "metadata": {
    "id": "XbzneDPOG4ZD"
   },
   "source": [
    "## Помесячное прогнозирование значений ДТП"
   ]
  },
  {
   "cell_type": "code",
   "execution_count": 71,
   "metadata": {
    "colab": {
     "base_uri": "https://localhost:8080/",
     "height": 344
    },
    "executionInfo": {
     "elapsed": 2885,
     "status": "ok",
     "timestamp": 1620328680178,
     "user": {
      "displayName": "Дмитрий Писляков",
      "photoUrl": "",
      "userId": "06731345324867096106"
     },
     "user_tz": -120
    },
    "id": "wZVB-hG1GwYl",
    "outputId": "c09be4b5-d424-494e-dc63-002cedbae894"
   },
   "outputs": [
    {
     "name": "stderr",
     "output_type": "stream",
     "text": [
      "INFO:fbprophet:Disabling weekly seasonality. Run prophet with weekly_seasonality=True to override this.\n",
      "INFO:fbprophet:Disabling daily seasonality. Run prophet with daily_seasonality=True to override this.\n"
     ]
    },
    {
     "data": {
      "text/html": [
       "<div>\n",
       "<style scoped>\n",
       "    .dataframe tbody tr th:only-of-type {\n",
       "        vertical-align: middle;\n",
       "    }\n",
       "\n",
       "    .dataframe tbody tr th {\n",
       "        vertical-align: top;\n",
       "    }\n",
       "\n",
       "    .dataframe thead th {\n",
       "        text-align: right;\n",
       "    }\n",
       "</style>\n",
       "<table border=\"1\" class=\"dataframe\">\n",
       "  <thead>\n",
       "    <tr style=\"text-align: right;\">\n",
       "      <th></th>\n",
       "      <th>ds</th>\n",
       "      <th>trend</th>\n",
       "      <th>yhat_lower</th>\n",
       "      <th>yhat_upper</th>\n",
       "      <th>trend_lower</th>\n",
       "      <th>trend_upper</th>\n",
       "      <th>multiplicative_terms</th>\n",
       "      <th>multiplicative_terms_lower</th>\n",
       "      <th>multiplicative_terms_upper</th>\n",
       "      <th>yearly</th>\n",
       "      <th>yearly_lower</th>\n",
       "      <th>yearly_upper</th>\n",
       "      <th>additive_terms</th>\n",
       "      <th>additive_terms_lower</th>\n",
       "      <th>additive_terms_upper</th>\n",
       "      <th>yhat</th>\n",
       "    </tr>\n",
       "  </thead>\n",
       "  <tbody>\n",
       "    <tr>\n",
       "      <th>0</th>\n",
       "      <td>2018-12-31</td>\n",
       "      <td>14055.245043</td>\n",
       "      <td>14990.646753</td>\n",
       "      <td>15687.761415</td>\n",
       "      <td>14054.277130</td>\n",
       "      <td>14056.543587</td>\n",
       "      <td>0.090751</td>\n",
       "      <td>0.090751</td>\n",
       "      <td>0.090751</td>\n",
       "      <td>0.090751</td>\n",
       "      <td>0.090751</td>\n",
       "      <td>0.090751</td>\n",
       "      <td>0.0</td>\n",
       "      <td>0.0</td>\n",
       "      <td>0.0</td>\n",
       "      <td>15330.778465</td>\n",
       "    </tr>\n",
       "    <tr>\n",
       "      <th>1</th>\n",
       "      <td>2019-01-31</td>\n",
       "      <td>14053.750639</td>\n",
       "      <td>11019.211021</td>\n",
       "      <td>11696.363591</td>\n",
       "      <td>14049.193710</td>\n",
       "      <td>14058.545584</td>\n",
       "      <td>-0.192187</td>\n",
       "      <td>-0.192187</td>\n",
       "      <td>-0.192187</td>\n",
       "      <td>-0.192187</td>\n",
       "      <td>-0.192187</td>\n",
       "      <td>-0.192187</td>\n",
       "      <td>0.0</td>\n",
       "      <td>0.0</td>\n",
       "      <td>0.0</td>\n",
       "      <td>11352.796262</td>\n",
       "    </tr>\n",
       "    <tr>\n",
       "      <th>2</th>\n",
       "      <td>2019-02-28</td>\n",
       "      <td>14052.400855</td>\n",
       "      <td>9260.364692</td>\n",
       "      <td>9943.880608</td>\n",
       "      <td>14043.784428</td>\n",
       "      <td>14061.156191</td>\n",
       "      <td>-0.317223</td>\n",
       "      <td>-0.317223</td>\n",
       "      <td>-0.317223</td>\n",
       "      <td>-0.317223</td>\n",
       "      <td>-0.317223</td>\n",
       "      <td>-0.317223</td>\n",
       "      <td>0.0</td>\n",
       "      <td>0.0</td>\n",
       "      <td>0.0</td>\n",
       "      <td>9594.662682</td>\n",
       "    </tr>\n",
       "    <tr>\n",
       "      <th>3</th>\n",
       "      <td>2019-03-31</td>\n",
       "      <td>14050.906452</td>\n",
       "      <td>9833.159735</td>\n",
       "      <td>10512.356576</td>\n",
       "      <td>14036.353314</td>\n",
       "      <td>14066.150004</td>\n",
       "      <td>-0.276682</td>\n",
       "      <td>-0.276682</td>\n",
       "      <td>-0.276682</td>\n",
       "      <td>-0.276682</td>\n",
       "      <td>-0.276682</td>\n",
       "      <td>-0.276682</td>\n",
       "      <td>0.0</td>\n",
       "      <td>0.0</td>\n",
       "      <td>0.0</td>\n",
       "      <td>10163.270511</td>\n",
       "    </tr>\n",
       "    <tr>\n",
       "      <th>4</th>\n",
       "      <td>2019-04-30</td>\n",
       "      <td>14049.460255</td>\n",
       "      <td>10677.046889</td>\n",
       "      <td>11386.868774</td>\n",
       "      <td>14028.214455</td>\n",
       "      <td>14071.251768</td>\n",
       "      <td>-0.214139</td>\n",
       "      <td>-0.214139</td>\n",
       "      <td>-0.214139</td>\n",
       "      <td>-0.214139</td>\n",
       "      <td>-0.214139</td>\n",
       "      <td>-0.214139</td>\n",
       "      <td>0.0</td>\n",
       "      <td>0.0</td>\n",
       "      <td>0.0</td>\n",
       "      <td>11040.921313</td>\n",
       "    </tr>\n",
       "  </tbody>\n",
       "</table>\n",
       "</div>"
      ],
      "text/plain": [
       "          ds         trend  ...  additive_terms_upper          yhat\n",
       "0 2018-12-31  14055.245043  ...                   0.0  15330.778465\n",
       "1 2019-01-31  14053.750639  ...                   0.0  11352.796262\n",
       "2 2019-02-28  14052.400855  ...                   0.0   9594.662682\n",
       "3 2019-03-31  14050.906452  ...                   0.0  10163.270511\n",
       "4 2019-04-30  14049.460255  ...                   0.0  11040.921313\n",
       "\n",
       "[5 rows x 16 columns]"
      ]
     },
     "execution_count": 71,
     "metadata": {
      "tags": []
     },
     "output_type": "execute_result"
    }
   ],
   "source": [
    "m=Prophet(seasonality_mode='multiplicative')\n",
    "m.fit(df_training)\n",
    "future=m.make_future_dataframe(periods=12,freq='M')\n",
    "forecast=m.predict(df_test)\n",
    "forecast.head()"
   ]
  },
  {
   "cell_type": "code",
   "execution_count": 72,
   "metadata": {
    "colab": {
     "base_uri": "https://localhost:8080/",
     "height": 640
    },
    "executionInfo": {
     "elapsed": 1135,
     "status": "ok",
     "timestamp": 1620328721615,
     "user": {
      "displayName": "Дмитрий Писляков",
      "photoUrl": "",
      "userId": "06731345324867096106"
     },
     "user_tz": -120
    },
    "id": "RzQR3GFTG5aG",
    "outputId": "14cf9345-b400-4019-9fef-0c5315ca387d"
   },
   "outputs": [
    {
     "data": {
      "text/plain": [
       "{'Мин-макс ошибка': 0.04091917427803293,\n",
       " 'Соотношение фактического и прогноза': 0.990840329121145,\n",
       " 'Среднеквадратичная ошибка': 724.2242809463916,\n",
       " 'Средняя абсолютная ошибка': 611.6037924265362,\n",
       " 'Средняя абсолютная процентная ошибка': 0.04307694685058616,\n",
       " 'Средняя ошибка': 475.3920349373939,\n",
       " 'Средняя ошибка в процентах': 0.030471520750473158}"
      ]
     },
     "execution_count": 72,
     "metadata": {
      "tags": []
     },
     "output_type": "execute_result"
    },
    {
     "data": {
      "image/png": "[encoded data removed]",
      "text/plain": [
       "<Figure size 864x576 with 1 Axes>"
      ]
     },
     "metadata": {
      "tags": []
     },
     "output_type": "display_data"
    }
   ],
   "source": [
    "ax=forecast.plot(x='ds',y='yhat',legend=True,label='predictions',figsize=(12,8))\n",
    "df_test.plot(x='ds',y='y',legend=True,label='True Test Data',ax=ax,xlim=('2018-12-30','2019-11-30'))\n",
    "forecast_accuracy(forecast.yhat.values,df_test.y.values)"
   ]
  },
  {
   "cell_type": "markdown",
   "metadata": {
    "id": "RpZG7CdRHp52"
   },
   "source": [
    "# По Москве"
   ]
  },
  {
   "cell_type": "markdown",
   "metadata": {
    "id": "7CJRCL9nHyo3"
   },
   "source": [
    "## Посуточное прогнозирование значений ДТП"
   ]
  },
  {
   "cell_type": "code",
   "execution_count": 86,
   "metadata": {
    "colab": {
     "base_uri": "https://localhost:8080/",
     "height": 326
    },
    "executionInfo": {
     "elapsed": 2957,
     "status": "ok",
     "timestamp": 1620329514438,
     "user": {
      "displayName": "Дмитрий Писляков",
      "photoUrl": "",
      "userId": "06731345324867096106"
     },
     "user_tz": -120
    },
    "id": "RFSuWPX8Hifq",
    "outputId": "0c8788fb-1cbd-4e03-d288-4b44a44ec4d8"
   },
   "outputs": [
    {
     "name": "stderr",
     "output_type": "stream",
     "text": [
      "INFO:fbprophet:Disabling daily seasonality. Run prophet with daily_seasonality=True to override this.\n"
     ]
    },
    {
     "data": {
      "text/html": [
       "<div>\n",
       "<style scoped>\n",
       "    .dataframe tbody tr th:only-of-type {\n",
       "        vertical-align: middle;\n",
       "    }\n",
       "\n",
       "    .dataframe tbody tr th {\n",
       "        vertical-align: top;\n",
       "    }\n",
       "\n",
       "    .dataframe thead th {\n",
       "        text-align: right;\n",
       "    }\n",
       "</style>\n",
       "<table border=\"1\" class=\"dataframe\">\n",
       "  <thead>\n",
       "    <tr style=\"text-align: right;\">\n",
       "      <th></th>\n",
       "      <th>ds</th>\n",
       "      <th>trend</th>\n",
       "      <th>yhat_lower</th>\n",
       "      <th>yhat_upper</th>\n",
       "      <th>trend_lower</th>\n",
       "      <th>trend_upper</th>\n",
       "      <th>multiplicative_terms</th>\n",
       "      <th>multiplicative_terms_lower</th>\n",
       "      <th>multiplicative_terms_upper</th>\n",
       "      <th>weekly</th>\n",
       "      <th>weekly_lower</th>\n",
       "      <th>weekly_upper</th>\n",
       "      <th>yearly</th>\n",
       "      <th>yearly_lower</th>\n",
       "      <th>yearly_upper</th>\n",
       "      <th>additive_terms</th>\n",
       "      <th>additive_terms_lower</th>\n",
       "      <th>additive_terms_upper</th>\n",
       "      <th>yhat</th>\n",
       "    </tr>\n",
       "  </thead>\n",
       "  <tbody>\n",
       "    <tr>\n",
       "      <th>0</th>\n",
       "      <td>2019-11-01</td>\n",
       "      <td>22.335058</td>\n",
       "      <td>18.809871</td>\n",
       "      <td>32.991316</td>\n",
       "      <td>22.335058</td>\n",
       "      <td>22.335058</td>\n",
       "      <td>0.155618</td>\n",
       "      <td>0.155618</td>\n",
       "      <td>0.155618</td>\n",
       "      <td>0.070501</td>\n",
       "      <td>0.070501</td>\n",
       "      <td>0.070501</td>\n",
       "      <td>0.085117</td>\n",
       "      <td>0.085117</td>\n",
       "      <td>0.085117</td>\n",
       "      <td>0.0</td>\n",
       "      <td>0.0</td>\n",
       "      <td>0.0</td>\n",
       "      <td>25.810792</td>\n",
       "    </tr>\n",
       "    <tr>\n",
       "      <th>1</th>\n",
       "      <td>2019-11-02</td>\n",
       "      <td>22.335848</td>\n",
       "      <td>16.571773</td>\n",
       "      <td>30.194398</td>\n",
       "      <td>22.335848</td>\n",
       "      <td>22.335848</td>\n",
       "      <td>0.049501</td>\n",
       "      <td>0.049501</td>\n",
       "      <td>0.049501</td>\n",
       "      <td>-0.041061</td>\n",
       "      <td>-0.041061</td>\n",
       "      <td>-0.041061</td>\n",
       "      <td>0.090562</td>\n",
       "      <td>0.090562</td>\n",
       "      <td>0.090562</td>\n",
       "      <td>0.0</td>\n",
       "      <td>0.0</td>\n",
       "      <td>0.0</td>\n",
       "      <td>23.441489</td>\n",
       "    </tr>\n",
       "    <tr>\n",
       "      <th>2</th>\n",
       "      <td>2019-11-03</td>\n",
       "      <td>22.336638</td>\n",
       "      <td>13.821733</td>\n",
       "      <td>28.816670</td>\n",
       "      <td>22.336638</td>\n",
       "      <td>22.336638</td>\n",
       "      <td>-0.051766</td>\n",
       "      <td>-0.051766</td>\n",
       "      <td>-0.051766</td>\n",
       "      <td>-0.147975</td>\n",
       "      <td>-0.147975</td>\n",
       "      <td>-0.147975</td>\n",
       "      <td>0.096209</td>\n",
       "      <td>0.096209</td>\n",
       "      <td>0.096209</td>\n",
       "      <td>0.0</td>\n",
       "      <td>0.0</td>\n",
       "      <td>0.0</td>\n",
       "      <td>21.180350</td>\n",
       "    </tr>\n",
       "    <tr>\n",
       "      <th>3</th>\n",
       "      <td>2019-11-04</td>\n",
       "      <td>22.337427</td>\n",
       "      <td>17.116823</td>\n",
       "      <td>32.161680</td>\n",
       "      <td>22.337427</td>\n",
       "      <td>22.337427</td>\n",
       "      <td>0.100979</td>\n",
       "      <td>0.100979</td>\n",
       "      <td>0.100979</td>\n",
       "      <td>-0.000939</td>\n",
       "      <td>-0.000939</td>\n",
       "      <td>-0.000939</td>\n",
       "      <td>0.101918</td>\n",
       "      <td>0.101918</td>\n",
       "      <td>0.101918</td>\n",
       "      <td>0.0</td>\n",
       "      <td>0.0</td>\n",
       "      <td>0.0</td>\n",
       "      <td>24.593032</td>\n",
       "    </tr>\n",
       "    <tr>\n",
       "      <th>4</th>\n",
       "      <td>2019-11-05</td>\n",
       "      <td>22.338217</td>\n",
       "      <td>17.738017</td>\n",
       "      <td>32.466853</td>\n",
       "      <td>22.338217</td>\n",
       "      <td>22.338217</td>\n",
       "      <td>0.136905</td>\n",
       "      <td>0.136905</td>\n",
       "      <td>0.136905</td>\n",
       "      <td>0.029355</td>\n",
       "      <td>0.029355</td>\n",
       "      <td>0.029355</td>\n",
       "      <td>0.107550</td>\n",
       "      <td>0.107550</td>\n",
       "      <td>0.107550</td>\n",
       "      <td>0.0</td>\n",
       "      <td>0.0</td>\n",
       "      <td>0.0</td>\n",
       "      <td>25.396440</td>\n",
       "    </tr>\n",
       "  </tbody>\n",
       "</table>\n",
       "</div>"
      ],
      "text/plain": [
       "          ds      trend  ...  additive_terms_upper       yhat\n",
       "0 2019-11-01  22.335058  ...                   0.0  25.810792\n",
       "1 2019-11-02  22.335848  ...                   0.0  23.441489\n",
       "2 2019-11-03  22.336638  ...                   0.0  21.180350\n",
       "3 2019-11-04  22.337427  ...                   0.0  24.593032\n",
       "4 2019-11-05  22.338217  ...                   0.0  25.396440\n",
       "\n",
       "[5 rows x 19 columns]"
      ]
     },
     "execution_count": 86,
     "metadata": {
      "tags": []
     },
     "output_type": "execute_result"
    }
   ],
   "source": [
    "m=Prophet(seasonality_mode='multiplicative')\n",
    "m.fit(df_training)\n",
    "future=m.make_future_dataframe(periods=30,freq='D')\n",
    "forecast=m.predict(df_test)\n",
    "forecast.head()"
   ]
  },
  {
   "cell_type": "code",
   "execution_count": 87,
   "metadata": {
    "colab": {
     "base_uri": "https://localhost:8080/",
     "height": 670
    },
    "executionInfo": {
     "elapsed": 1374,
     "status": "ok",
     "timestamp": 1620329546944,
     "user": {
      "displayName": "Дмитрий Писляков",
      "photoUrl": "",
      "userId": "06731345324867096106"
     },
     "user_tz": -120
    },
    "id": "6zXFhRmzHsWh",
    "outputId": "32305381-3cbd-4488-cc8a-daf973b0fa61"
   },
   "outputs": [
    {
     "data": {
      "text/plain": [
       "{'Мин-макс ошибка': 0.1836322373309972,\n",
       " 'Соотношение фактического и прогноза': 0.27766325439178813,\n",
       " 'Среднеквадратичная ошибка': 6.831590392537784,\n",
       " 'Средняя абсолютная ошибка': 5.328943389783968,\n",
       " 'Средняя абсолютная процентная ошибка': 0.22597950916741574,\n",
       " 'Средняя ошибка': -0.24639037555889967,\n",
       " 'Средняя ошибка в процентах': 0.06425044811108754}"
      ]
     },
     "execution_count": 87,
     "metadata": {
      "tags": []
     },
     "output_type": "execute_result"
    },
    {
     "data": {
      "image/png": "[encoded data removed]",
      "text/plain": [
       "<Figure size 864x576 with 1 Axes>"
      ]
     },
     "metadata": {
      "tags": []
     },
     "output_type": "display_data"
    }
   ],
   "source": [
    "ax=forecast.plot(x='ds',y='yhat',legend=True,label='predictions',figsize=(12,8))\n",
    "df_test.plot(x='ds',y='y',legend=True,label='True Test Data',ax=ax,xlim=('2019-10-31','2019-11-30'))\n",
    "forecast_accuracy(forecast.yhat.values,df_test.y.values)"
   ]
  },
  {
   "cell_type": "markdown",
   "metadata": {
    "id": "stdNJ7axKxvs"
   },
   "source": [
    "## Понедельное прогнозирование значений ДТП"
   ]
  },
  {
   "cell_type": "code",
   "execution_count": 90,
   "metadata": {
    "colab": {
     "base_uri": "https://localhost:8080/",
     "height": 344
    },
    "executionInfo": {
     "elapsed": 2666,
     "status": "ok",
     "timestamp": 1620329668757,
     "user": {
      "displayName": "Дмитрий Писляков",
      "photoUrl": "",
      "userId": "06731345324867096106"
     },
     "user_tz": -120
    },
    "id": "8HG4dUO1Kr6L",
    "outputId": "7a635d5b-9ce3-4935-8343-bcac7ccb8331"
   },
   "outputs": [
    {
     "name": "stderr",
     "output_type": "stream",
     "text": [
      "INFO:fbprophet:Disabling weekly seasonality. Run prophet with weekly_seasonality=True to override this.\n",
      "INFO:fbprophet:Disabling daily seasonality. Run prophet with daily_seasonality=True to override this.\n"
     ]
    },
    {
     "data": {
      "text/html": [
       "<div>\n",
       "<style scoped>\n",
       "    .dataframe tbody tr th:only-of-type {\n",
       "        vertical-align: middle;\n",
       "    }\n",
       "\n",
       "    .dataframe tbody tr th {\n",
       "        vertical-align: top;\n",
       "    }\n",
       "\n",
       "    .dataframe thead th {\n",
       "        text-align: right;\n",
       "    }\n",
       "</style>\n",
       "<table border=\"1\" class=\"dataframe\">\n",
       "  <thead>\n",
       "    <tr style=\"text-align: right;\">\n",
       "      <th></th>\n",
       "      <th>ds</th>\n",
       "      <th>trend</th>\n",
       "      <th>yhat_lower</th>\n",
       "      <th>yhat_upper</th>\n",
       "      <th>trend_lower</th>\n",
       "      <th>trend_upper</th>\n",
       "      <th>multiplicative_terms</th>\n",
       "      <th>multiplicative_terms_lower</th>\n",
       "      <th>multiplicative_terms_upper</th>\n",
       "      <th>yearly</th>\n",
       "      <th>yearly_lower</th>\n",
       "      <th>yearly_upper</th>\n",
       "      <th>additive_terms</th>\n",
       "      <th>additive_terms_lower</th>\n",
       "      <th>additive_terms_upper</th>\n",
       "      <th>yhat</th>\n",
       "    </tr>\n",
       "  </thead>\n",
       "  <tbody>\n",
       "    <tr>\n",
       "      <th>0</th>\n",
       "      <td>2019-08-11</td>\n",
       "      <td>155.409547</td>\n",
       "      <td>139.824620</td>\n",
       "      <td>189.473745</td>\n",
       "      <td>155.409547</td>\n",
       "      <td>155.409547</td>\n",
       "      <td>0.062069</td>\n",
       "      <td>0.062069</td>\n",
       "      <td>0.062069</td>\n",
       "      <td>0.062069</td>\n",
       "      <td>0.062069</td>\n",
       "      <td>0.062069</td>\n",
       "      <td>0.0</td>\n",
       "      <td>0.0</td>\n",
       "      <td>0.0</td>\n",
       "      <td>165.055689</td>\n",
       "    </tr>\n",
       "    <tr>\n",
       "      <th>1</th>\n",
       "      <td>2019-08-18</td>\n",
       "      <td>155.456913</td>\n",
       "      <td>142.977533</td>\n",
       "      <td>192.951210</td>\n",
       "      <td>155.456913</td>\n",
       "      <td>155.456913</td>\n",
       "      <td>0.082147</td>\n",
       "      <td>0.082147</td>\n",
       "      <td>0.082147</td>\n",
       "      <td>0.082147</td>\n",
       "      <td>0.082147</td>\n",
       "      <td>0.082147</td>\n",
       "      <td>0.0</td>\n",
       "      <td>0.0</td>\n",
       "      <td>0.0</td>\n",
       "      <td>168.227265</td>\n",
       "    </tr>\n",
       "    <tr>\n",
       "      <th>2</th>\n",
       "      <td>2019-08-25</td>\n",
       "      <td>155.504279</td>\n",
       "      <td>146.475581</td>\n",
       "      <td>192.365000</td>\n",
       "      <td>155.497350</td>\n",
       "      <td>155.511629</td>\n",
       "      <td>0.087646</td>\n",
       "      <td>0.087646</td>\n",
       "      <td>0.087646</td>\n",
       "      <td>0.087646</td>\n",
       "      <td>0.087646</td>\n",
       "      <td>0.087646</td>\n",
       "      <td>0.0</td>\n",
       "      <td>0.0</td>\n",
       "      <td>0.0</td>\n",
       "      <td>169.133668</td>\n",
       "    </tr>\n",
       "    <tr>\n",
       "      <th>3</th>\n",
       "      <td>2019-09-01</td>\n",
       "      <td>155.551645</td>\n",
       "      <td>146.751918</td>\n",
       "      <td>196.104828</td>\n",
       "      <td>155.535750</td>\n",
       "      <td>155.566878</td>\n",
       "      <td>0.097098</td>\n",
       "      <td>0.097098</td>\n",
       "      <td>0.097098</td>\n",
       "      <td>0.097098</td>\n",
       "      <td>0.097098</td>\n",
       "      <td>0.097098</td>\n",
       "      <td>0.0</td>\n",
       "      <td>0.0</td>\n",
       "      <td>0.0</td>\n",
       "      <td>170.655451</td>\n",
       "    </tr>\n",
       "    <tr>\n",
       "      <th>4</th>\n",
       "      <td>2019-09-08</td>\n",
       "      <td>155.599011</td>\n",
       "      <td>149.292463</td>\n",
       "      <td>199.691307</td>\n",
       "      <td>155.568003</td>\n",
       "      <td>155.629851</td>\n",
       "      <td>0.126328</td>\n",
       "      <td>0.126328</td>\n",
       "      <td>0.126328</td>\n",
       "      <td>0.126328</td>\n",
       "      <td>0.126328</td>\n",
       "      <td>0.126328</td>\n",
       "      <td>0.0</td>\n",
       "      <td>0.0</td>\n",
       "      <td>0.0</td>\n",
       "      <td>175.255463</td>\n",
       "    </tr>\n",
       "  </tbody>\n",
       "</table>\n",
       "</div>"
      ],
      "text/plain": [
       "          ds       trend  ...  additive_terms_upper        yhat\n",
       "0 2019-08-11  155.409547  ...                   0.0  165.055689\n",
       "1 2019-08-18  155.456913  ...                   0.0  168.227265\n",
       "2 2019-08-25  155.504279  ...                   0.0  169.133668\n",
       "3 2019-09-01  155.551645  ...                   0.0  170.655451\n",
       "4 2019-09-08  155.599011  ...                   0.0  175.255463\n",
       "\n",
       "[5 rows x 16 columns]"
      ]
     },
     "execution_count": 90,
     "metadata": {
      "tags": []
     },
     "output_type": "execute_result"
    }
   ],
   "source": [
    "m=Prophet(seasonality_mode='multiplicative')\n",
    "m.fit(df_training)\n",
    "future=m.make_future_dataframe(periods=17,freq='W')\n",
    "forecast=m.predict(df_test)\n",
    "forecast.head()"
   ]
  },
  {
   "cell_type": "code",
   "execution_count": 91,
   "metadata": {
    "colab": {
     "base_uri": "https://localhost:8080/",
     "height": 640
    },
    "executionInfo": {
     "elapsed": 1179,
     "status": "ok",
     "timestamp": 1620329689358,
     "user": {
      "displayName": "Дмитрий Писляков",
      "photoUrl": "",
      "userId": "06731345324867096106"
     },
     "user_tz": -120
    },
    "id": "7VEosVqWLJWx",
    "outputId": "62e4dbc7-6b0a-4e19-acd0-7aa75d30d752"
   },
   "outputs": [
    {
     "data": {
      "text/plain": [
       "{'Мин-макс ошибка': 0.1016082055555576,\n",
       " 'Соотношение фактического и прогноза': 0.28440222069249516,\n",
       " 'Среднеквадратичная ошибка': 25.070039893353613,\n",
       " 'Средняя абсолютная ошибка': 19.02514075678286,\n",
       " 'Средняя абсолютная процентная ошибка': 0.11870910276490527,\n",
       " 'Средняя ошибка': 1.428867797399749,\n",
       " 'Средняя ошибка в процентах': 0.032244536332841876}"
      ]
     },
     "execution_count": 91,
     "metadata": {
      "tags": []
     },
     "output_type": "execute_result"
    },
    {
     "data": {
      "image/png": "[encoded data removed]",
      "text/plain": [
       "<Figure size 864x576 with 1 Axes>"
      ]
     },
     "metadata": {
      "tags": []
     },
     "output_type": "display_data"
    }
   ],
   "source": [
    "ax=forecast.plot(x='ds',y='yhat',legend=True,label='predictions',figsize=(12,8))\n",
    "df_test.plot(x='ds',y='y',legend=True,label='True Test Data',ax=ax,xlim=('2019-08-04','2019-12-01'))\n",
    "forecast_accuracy(forecast.yhat.values,df_test.y.values)"
   ]
  },
  {
   "cell_type": "markdown",
   "metadata": {
    "id": "hTKORoc_LcLO"
   },
   "source": [
    "## Помесячное прогнозирование значений ДТП"
   ]
  },
  {
   "cell_type": "code",
   "execution_count": 94,
   "metadata": {
    "colab": {
     "base_uri": "https://localhost:8080/",
     "height": 344
    },
    "executionInfo": {
     "elapsed": 3459,
     "status": "ok",
     "timestamp": 1620329801822,
     "user": {
      "displayName": "Дмитрий Писляков",
      "photoUrl": "",
      "userId": "06731345324867096106"
     },
     "user_tz": -120
    },
    "id": "-kGQp1yFLOwj",
    "outputId": "eff78bc7-fa4a-412f-85bb-c03160be3a92"
   },
   "outputs": [
    {
     "name": "stderr",
     "output_type": "stream",
     "text": [
      "INFO:fbprophet:Disabling weekly seasonality. Run prophet with weekly_seasonality=True to override this.\n",
      "INFO:fbprophet:Disabling daily seasonality. Run prophet with daily_seasonality=True to override this.\n"
     ]
    },
    {
     "data": {
      "text/html": [
       "<div>\n",
       "<style scoped>\n",
       "    .dataframe tbody tr th:only-of-type {\n",
       "        vertical-align: middle;\n",
       "    }\n",
       "\n",
       "    .dataframe tbody tr th {\n",
       "        vertical-align: top;\n",
       "    }\n",
       "\n",
       "    .dataframe thead th {\n",
       "        text-align: right;\n",
       "    }\n",
       "</style>\n",
       "<table border=\"1\" class=\"dataframe\">\n",
       "  <thead>\n",
       "    <tr style=\"text-align: right;\">\n",
       "      <th></th>\n",
       "      <th>ds</th>\n",
       "      <th>trend</th>\n",
       "      <th>yhat_lower</th>\n",
       "      <th>yhat_upper</th>\n",
       "      <th>trend_lower</th>\n",
       "      <th>trend_upper</th>\n",
       "      <th>multiplicative_terms</th>\n",
       "      <th>multiplicative_terms_lower</th>\n",
       "      <th>multiplicative_terms_upper</th>\n",
       "      <th>yearly</th>\n",
       "      <th>yearly_lower</th>\n",
       "      <th>yearly_upper</th>\n",
       "      <th>additive_terms</th>\n",
       "      <th>additive_terms_lower</th>\n",
       "      <th>additive_terms_upper</th>\n",
       "      <th>yhat</th>\n",
       "    </tr>\n",
       "  </thead>\n",
       "  <tbody>\n",
       "    <tr>\n",
       "      <th>0</th>\n",
       "      <td>2018-12-31</td>\n",
       "      <td>695.035212</td>\n",
       "      <td>775.315060</td>\n",
       "      <td>839.562685</td>\n",
       "      <td>694.838632</td>\n",
       "      <td>695.211662</td>\n",
       "      <td>0.162460</td>\n",
       "      <td>0.162460</td>\n",
       "      <td>0.162460</td>\n",
       "      <td>0.162460</td>\n",
       "      <td>0.162460</td>\n",
       "      <td>0.162460</td>\n",
       "      <td>0.0</td>\n",
       "      <td>0.0</td>\n",
       "      <td>0.0</td>\n",
       "      <td>807.950515</td>\n",
       "    </tr>\n",
       "    <tr>\n",
       "      <th>1</th>\n",
       "      <td>2019-01-31</td>\n",
       "      <td>697.456328</td>\n",
       "      <td>518.606579</td>\n",
       "      <td>585.816329</td>\n",
       "      <td>696.600230</td>\n",
       "      <td>698.251917</td>\n",
       "      <td>-0.208855</td>\n",
       "      <td>-0.208855</td>\n",
       "      <td>-0.208855</td>\n",
       "      <td>-0.208855</td>\n",
       "      <td>-0.208855</td>\n",
       "      <td>-0.208855</td>\n",
       "      <td>0.0</td>\n",
       "      <td>0.0</td>\n",
       "      <td>0.0</td>\n",
       "      <td>551.789218</td>\n",
       "    </tr>\n",
       "    <tr>\n",
       "      <th>2</th>\n",
       "      <td>2019-02-28</td>\n",
       "      <td>699.643142</td>\n",
       "      <td>497.224471</td>\n",
       "      <td>563.608668</td>\n",
       "      <td>697.915131</td>\n",
       "      <td>701.178079</td>\n",
       "      <td>-0.242741</td>\n",
       "      <td>-0.242741</td>\n",
       "      <td>-0.242741</td>\n",
       "      <td>-0.242741</td>\n",
       "      <td>-0.242741</td>\n",
       "      <td>-0.242741</td>\n",
       "      <td>0.0</td>\n",
       "      <td>0.0</td>\n",
       "      <td>0.0</td>\n",
       "      <td>529.811026</td>\n",
       "    </tr>\n",
       "    <tr>\n",
       "      <th>3</th>\n",
       "      <td>2019-03-31</td>\n",
       "      <td>702.064258</td>\n",
       "      <td>551.962987</td>\n",
       "      <td>617.604560</td>\n",
       "      <td>699.167721</td>\n",
       "      <td>704.662359</td>\n",
       "      <td>-0.167142</td>\n",
       "      <td>-0.167142</td>\n",
       "      <td>-0.167142</td>\n",
       "      <td>-0.167142</td>\n",
       "      <td>-0.167142</td>\n",
       "      <td>-0.167142</td>\n",
       "      <td>0.0</td>\n",
       "      <td>0.0</td>\n",
       "      <td>0.0</td>\n",
       "      <td>584.719896</td>\n",
       "    </tr>\n",
       "    <tr>\n",
       "      <th>4</th>\n",
       "      <td>2019-04-30</td>\n",
       "      <td>704.407273</td>\n",
       "      <td>591.313698</td>\n",
       "      <td>657.970625</td>\n",
       "      <td>700.144439</td>\n",
       "      <td>708.011027</td>\n",
       "      <td>-0.111491</td>\n",
       "      <td>-0.111491</td>\n",
       "      <td>-0.111491</td>\n",
       "      <td>-0.111491</td>\n",
       "      <td>-0.111491</td>\n",
       "      <td>-0.111491</td>\n",
       "      <td>0.0</td>\n",
       "      <td>0.0</td>\n",
       "      <td>0.0</td>\n",
       "      <td>625.872156</td>\n",
       "    </tr>\n",
       "  </tbody>\n",
       "</table>\n",
       "</div>"
      ],
      "text/plain": [
       "          ds       trend  ...  additive_terms_upper        yhat\n",
       "0 2018-12-31  695.035212  ...                   0.0  807.950515\n",
       "1 2019-01-31  697.456328  ...                   0.0  551.789218\n",
       "2 2019-02-28  699.643142  ...                   0.0  529.811026\n",
       "3 2019-03-31  702.064258  ...                   0.0  584.719896\n",
       "4 2019-04-30  704.407273  ...                   0.0  625.872156\n",
       "\n",
       "[5 rows x 16 columns]"
      ]
     },
     "execution_count": 94,
     "metadata": {
      "tags": []
     },
     "output_type": "execute_result"
    }
   ],
   "source": [
    "m=Prophet(seasonality_mode='multiplicative')\n",
    "m.fit(df_training)\n",
    "future=m.make_future_dataframe(periods=12,freq='M')\n",
    "forecast=m.predict(df_test)\n",
    "forecast.head()"
   ]
  },
  {
   "cell_type": "code",
   "execution_count": 95,
   "metadata": {
    "colab": {
     "base_uri": "https://localhost:8080/",
     "height": 640
    },
    "executionInfo": {
     "elapsed": 1220,
     "status": "ok",
     "timestamp": 1620329818419,
     "user": {
      "displayName": "Дмитрий Писляков",
      "photoUrl": "",
      "userId": "06731345324867096106"
     },
     "user_tz": -120
    },
    "id": "shnmPSJALcnR",
    "outputId": "8aacbc45-66bc-413f-f488-dcc3d76c50b3"
   },
   "outputs": [
    {
     "data": {
      "text/plain": [
       "{'Мин-макс ошибка': 0.060569220131604706,\n",
       " 'Соотношение фактического и прогноза': 0.9103264660704067,\n",
       " 'Среднеквадратичная ошибка': 53.68212486633017,\n",
       " 'Средняя абсолютная ошибка': 43.69713868436909,\n",
       " 'Средняя абсолютная процентная ошибка': 0.06596819166354374,\n",
       " 'Средняя ошибка': 31.67811632208223,\n",
       " 'Средняя ошибка в процентах': 0.04580843677586632}"
      ]
     },
     "execution_count": 95,
     "metadata": {
      "tags": []
     },
     "output_type": "execute_result"
    },
    {
     "data": {
      "image/png": "[encoded data removed]",
      "text/plain": [
       "<Figure size 864x576 with 1 Axes>"
      ]
     },
     "metadata": {
      "tags": []
     },
     "output_type": "display_data"
    }
   ],
   "source": [
    "ax=forecast.plot(x='ds',y='yhat',legend=True,label='predictions',figsize=(12,8))\n",
    "df_test.plot(x='ds',y='y',legend=True,label='True Test Data',ax=ax,xlim=('2018-12-30','2019-11-30'))\n",
    "forecast_accuracy(forecast.yhat.values,df_test.y.values)"
   ]
  },
  {
   "cell_type": "code",
   "execution_count": null,
   "metadata": {
    "id": "dynklAGCLuP2"
   },
   "outputs": [],
   "source": []
  }
 ],
 "metadata": {
  "colab": {
   "authorship_tag": "ABX9TyN+02C3hu5+GsFbo/48V3zz",
   "collapsed_sections": [],
   "mount_file_id": "1VLFdVhp4Uo3LA6NP86Wk2cC-I8tJF8Fr",
   "name": "Prophet.ipynb",
   "provenance": []
  },
  "kernelspec": {
   "display_name": "Python 3",
   "language": "python",
   "name": "python3"
  },
  "language_info": {
   "codemirror_mode": {
    "name": "ipython",
    "version": 3
   },
   "file_extension": ".py",
   "mimetype": "text/x-python",
   "name": "python",
   "nbconvert_exporter": "python",
   "pygments_lexer": "ipython3",
   "version": "3.7.0"
  }
 },
 "nbformat": 4,
 "nbformat_minor": 1
}
